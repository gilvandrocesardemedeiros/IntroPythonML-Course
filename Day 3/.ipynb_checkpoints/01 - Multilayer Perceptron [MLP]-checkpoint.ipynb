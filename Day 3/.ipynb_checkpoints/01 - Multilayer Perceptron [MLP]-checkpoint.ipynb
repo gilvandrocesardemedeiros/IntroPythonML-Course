{
 "cells": [
  {
   "cell_type": "markdown",
   "metadata": {
    "colab_type": "text",
    "id": "MRXgvNO4GGTK"
   },
   "source": [
    "## *Multi-Layer Perceptron* (Perceptron de Muitas Camadas)"
   ]
  },
  {
   "cell_type": "markdown",
   "metadata": {
    "colab_type": "text",
    "id": "C25cQbJy48P8"
   },
   "source": [
    "# Agora vamos resolver um problema prático e bastante desafiador, para verificar o real poder das redes neurais artificiais. Como de costume, vamos primeiro investigar a base de dados que utilizaremos. Dê uma olhada:\n",
    "  \n",
    "https://github.com/Natalnet/GCiD/raw/master/Codes/Data/curitibadiario.csv"
   ]
  },
  {
   "cell_type": "code",
   "execution_count": 1,
   "metadata": {
    "colab": {},
    "colab_type": "code",
    "id": "GA54QwgTGZpu"
   },
   "outputs": [],
   "source": [
    "import pandas as pd\n",
    "import matplotlib.pyplot as plt\n",
    "#Leitura de dados\n",
    "dataSet = pd.read_csv(\"https://github.com/Natalnet/GCiD/raw/master/Codes/Data/curitibadiario.csv\",\n",
    "                      skiprows = 16, sep=';')\n"
   ]
  },
  {
   "cell_type": "code",
   "execution_count": 2,
   "metadata": {
    "colab": {
     "base_uri": "https://localhost:8080/",
     "height": 204
    },
    "colab_type": "code",
    "id": "Mz2WiP7s5fCE",
    "outputId": "3a136153-6fb1-4f3b-9b68-ac8d78c38d91"
   },
   "outputs": [
    {
     "data": {
      "text/html": [
       "<div>\n",
       "<style scoped>\n",
       "    .dataframe tbody tr th:only-of-type {\n",
       "        vertical-align: middle;\n",
       "    }\n",
       "\n",
       "    .dataframe tbody tr th {\n",
       "        vertical-align: top;\n",
       "    }\n",
       "\n",
       "    .dataframe thead th {\n",
       "        text-align: right;\n",
       "    }\n",
       "</style>\n",
       "<table border=\"1\" class=\"dataframe\">\n",
       "  <thead>\n",
       "    <tr style=\"text-align: right;\">\n",
       "      <th></th>\n",
       "      <th>Estacao</th>\n",
       "      <th>Data</th>\n",
       "      <th>Hora</th>\n",
       "      <th>Precipitacao</th>\n",
       "      <th>TempMaxima</th>\n",
       "      <th>TempMinima</th>\n",
       "      <th>Insolacao</th>\n",
       "      <th>Evaporacao Piche</th>\n",
       "      <th>Temp Comp Media</th>\n",
       "      <th>Umidade Relativa Media</th>\n",
       "      <th>Velocidade do Vento Media</th>\n",
       "      <th>Unnamed: 11</th>\n",
       "    </tr>\n",
       "  </thead>\n",
       "  <tbody>\n",
       "    <tr>\n",
       "      <th>0</th>\n",
       "      <td>83842</td>\n",
       "      <td>01/01/1980</td>\n",
       "      <td>0</td>\n",
       "      <td>NaN</td>\n",
       "      <td>24.6</td>\n",
       "      <td>NaN</td>\n",
       "      <td>11.7</td>\n",
       "      <td>7.4</td>\n",
       "      <td>15.94</td>\n",
       "      <td>69.25</td>\n",
       "      <td>3.366667</td>\n",
       "      <td>NaN</td>\n",
       "    </tr>\n",
       "    <tr>\n",
       "      <th>1</th>\n",
       "      <td>83842</td>\n",
       "      <td>01/01/1980</td>\n",
       "      <td>1200</td>\n",
       "      <td>0.0</td>\n",
       "      <td>NaN</td>\n",
       "      <td>9.0</td>\n",
       "      <td>NaN</td>\n",
       "      <td>NaN</td>\n",
       "      <td>NaN</td>\n",
       "      <td>NaN</td>\n",
       "      <td>NaN</td>\n",
       "      <td>NaN</td>\n",
       "    </tr>\n",
       "    <tr>\n",
       "      <th>2</th>\n",
       "      <td>83842</td>\n",
       "      <td>02/01/1980</td>\n",
       "      <td>0</td>\n",
       "      <td>NaN</td>\n",
       "      <td>25.0</td>\n",
       "      <td>NaN</td>\n",
       "      <td>8.1</td>\n",
       "      <td>1.9</td>\n",
       "      <td>16.52</td>\n",
       "      <td>76.75</td>\n",
       "      <td>1.700000</td>\n",
       "      <td>NaN</td>\n",
       "    </tr>\n",
       "    <tr>\n",
       "      <th>3</th>\n",
       "      <td>83842</td>\n",
       "      <td>02/01/1980</td>\n",
       "      <td>1200</td>\n",
       "      <td>0.0</td>\n",
       "      <td>NaN</td>\n",
       "      <td>11.7</td>\n",
       "      <td>NaN</td>\n",
       "      <td>NaN</td>\n",
       "      <td>NaN</td>\n",
       "      <td>NaN</td>\n",
       "      <td>NaN</td>\n",
       "      <td>NaN</td>\n",
       "    </tr>\n",
       "    <tr>\n",
       "      <th>4</th>\n",
       "      <td>83842</td>\n",
       "      <td>03/01/1980</td>\n",
       "      <td>0</td>\n",
       "      <td>NaN</td>\n",
       "      <td>27.1</td>\n",
       "      <td>NaN</td>\n",
       "      <td>11.2</td>\n",
       "      <td>2.9</td>\n",
       "      <td>18.92</td>\n",
       "      <td>71.00</td>\n",
       "      <td>1.833333</td>\n",
       "      <td>NaN</td>\n",
       "    </tr>\n",
       "  </tbody>\n",
       "</table>\n",
       "</div>"
      ],
      "text/plain": [
       "   Estacao        Data  Hora  Precipitacao  TempMaxima  TempMinima  Insolacao  \\\n",
       "0    83842  01/01/1980     0           NaN        24.6         NaN       11.7   \n",
       "1    83842  01/01/1980  1200           0.0         NaN         9.0        NaN   \n",
       "2    83842  02/01/1980     0           NaN        25.0         NaN        8.1   \n",
       "3    83842  02/01/1980  1200           0.0         NaN        11.7        NaN   \n",
       "4    83842  03/01/1980     0           NaN        27.1         NaN       11.2   \n",
       "\n",
       "   Evaporacao Piche  Temp Comp Media  Umidade Relativa Media  \\\n",
       "0               7.4            15.94                   69.25   \n",
       "1               NaN              NaN                     NaN   \n",
       "2               1.9            16.52                   76.75   \n",
       "3               NaN              NaN                     NaN   \n",
       "4               2.9            18.92                   71.00   \n",
       "\n",
       "   Velocidade do Vento Media  Unnamed: 11  \n",
       "0                   3.366667          NaN  \n",
       "1                        NaN          NaN  \n",
       "2                   1.700000          NaN  \n",
       "3                        NaN          NaN  \n",
       "4                   1.833333          NaN  "
      ]
     },
     "execution_count": 2,
     "metadata": {},
     "output_type": "execute_result"
    }
   ],
   "source": [
    "#Visualizando cabeçalho dos dados\n",
    "dataSet.head()"
   ]
  },
  {
   "cell_type": "markdown",
   "metadata": {
    "colab_type": "text",
    "id": "L80q1OJ1-PEj"
   },
   "source": [
    "# Velho problema conhecido, que já sabemos como resolver. Vamos simplificar e juntar todos os passos (já estudados) em uma função, que vai retornar nossa base de dados bem mais organizada."
   ]
  },
  {
   "cell_type": "code",
   "execution_count": 3,
   "metadata": {
    "colab": {},
    "colab_type": "code",
    "id": "suOCgeY8-Zuk"
   },
   "outputs": [],
   "source": [
    "def OrganizarDados(dataSet):\n",
    "    #Transformando data em variável do tipo datetime\n",
    "    dataSet[\"Data\"] = pd.to_datetime(dataSet[\"Data\"], format = \"%d/%m/%Y\")\n",
    "    #Atribuindo \"Data\" como índice para a base de dados\n",
    "    dataSet = dataSet.set_index(\"Data\")\n",
    "    #Separando os dados em dois dataframes, um para as 00:00 h e outro para as 12:00 h\n",
    "    dataSet00, dataSet12 = dataSet[dataSet[\"Hora\"] == 0], dataSet[dataSet[\"Hora\"] == 1200]\n",
    "    #Descartando as colunas \"Hora\", \"Estacao\" e \"Unnamed: 11\" \n",
    "    dataSet00, dataSet12 = dataSet00.drop(columns = [\"Hora\", \"Estacao\", \"Unnamed: 11\"]), dataSet12.drop(columns = [\"Hora\", \"Estacao\", \"Unnamed: 11\"])\n",
    "    #Eliminando colunas completas por \"NaN\" em cada uma das bases de dados\n",
    "    dataSet00 = dataSet00.drop(columns = [\"Precipitacao\",\"TempMinima\"])\n",
    "    dataSet12 = dataSet12.drop(columns = [\"TempMaxima\",\"Insolacao\",\"Evaporacao Piche\",\"Temp Comp Media\",\"Umidade Relativa Media\",\"Velocidade do Vento Media\"])\n",
    "    #Criando o intervalo completo de tempo de 01-01-2005 à 31-12-2017\n",
    "    dataInicial = '2005-01-01'\n",
    "    dataFinal = '2017-12-31'\n",
    "    tempo = pd.date_range(dataInicial, dataFinal)\n",
    "    #Atribuindo este intervalo de tempo à um dataSet provisório\n",
    "    dataSetProv = pd.DataFrame()\n",
    "    dataSetProv[\"Data\"] = tempo\n",
    "    #Atribuindo o índice para o dataSet provisório como sendo a coluna de datas\n",
    "    dataSetProv = dataSetProv.set_index(\"Data\")\n",
    "    #Mesclando o dataSet provisório como sendo o resultado da junção dos dataSet00 e dataSet12\n",
    "    dataSetProv = dataSetProv.join(dataSet00).join(dataSet12)\n",
    "    #Tornando o dataSet como sendo o dataSet provisório\n",
    "    dataSet = dataSetProv  \n",
    "    return dataSet"
   ]
  },
  {
   "cell_type": "code",
   "execution_count": 4,
   "metadata": {
    "colab": {},
    "colab_type": "code",
    "id": "bKoRgM0c-rjf"
   },
   "outputs": [],
   "source": [
    "#Aplicando a função ao dataSet\n",
    "dataSet = OrganizarDados(dataSet)"
   ]
  },
  {
   "cell_type": "markdown",
   "metadata": {
    "colab_type": "text",
    "id": "Ut10fr2I6NWW"
   },
   "source": [
    "# Nosso objetivo hoje é prever temperatura máxima para um determinado dia, dada uma determinada combinação de outras variáveis. Será que conseguimos?"
   ]
  },
  {
   "cell_type": "code",
   "execution_count": 5,
   "metadata": {
    "colab": {
     "base_uri": "https://localhost:8080/",
     "height": 295
    },
    "colab_type": "code",
    "id": "DhT2TpIg6DY_",
    "outputId": "e2fd298f-8e5e-4ef7-a9e4-8ce40f318a41"
   },
   "outputs": [
    {
     "name": "stderr",
     "output_type": "stream",
     "text": [
      "/home/gilvandro/anaconda3/lib/python3.6/site-packages/pandas/plotting/_converter.py:129: FutureWarning: Using an implicitly registered datetime converter for a matplotlib plotting method. The converter was registered by pandas on import. Future versions of pandas will require you to explicitly register matplotlib converters.\n",
      "\n",
      "To register the converters:\n",
      "\t>>> from pandas.plotting import register_matplotlib_converters\n",
      "\t>>> register_matplotlib_converters()\n",
      "  warnings.warn(msg, FutureWarning)\n"
     ]
    },
    {
     "data": {
      "image/png": "[encoded data removed]",
      "text/plain": [
       "<Figure size 432x288 with 1 Axes>"
      ]
     },
     "metadata": {
      "needs_background": "light"
     },
     "output_type": "display_data"
    }
   ],
   "source": [
    "#Visualizando relação dos dados\n",
    "plt.scatter(dataSet.index, dataSet[\"TempMaxima\"])\n",
    "plt.title(\"Distribuição de temperatura máxima ao longo dos últimos anos\")\n",
    "plt.xlabel(\"Data\")\n",
    "plt.ylabel(\"Temperatura máxima diária\")\n",
    "plt.show()"
   ]
  },
  {
   "cell_type": "markdown",
   "metadata": {
    "colab_type": "text",
    "id": "NnUnyVf160QZ"
   },
   "source": [
    "# Não parece nada simples, hein? Desafio você a tentar modelar uma função polinomial que descreva o comportamento desse problema. O último ser humano que tentou realizar essa proeza foi encontrado meses depois congelado em uma caverna no Alaska (fonte: FEI - Fatos que Eu Inventei)"
   ]
  },
  {
   "cell_type": "code",
   "execution_count": 6,
   "metadata": {
    "colab": {},
    "colab_type": "code",
    "id": "7ASFRyV7-xxF"
   },
   "outputs": [],
   "source": [
    "#Tornando a informação de mês uma variável do dataSet\n",
    "dataSet[\"Mes\"] = dataSet.index.month"
   ]
  },
  {
   "cell_type": "code",
   "execution_count": 7,
   "metadata": {
    "colab": {},
    "colab_type": "code",
    "id": "7-eMKEw0-0us"
   },
   "outputs": [],
   "source": [
    "#Eliminando eventos inconsistentes da base de dados\n",
    "dataSet = dataSet.dropna()"
   ]
  },
  {
   "cell_type": "code",
   "execution_count": 8,
   "metadata": {
    "colab": {},
    "colab_type": "code",
    "id": "iTMULiEu-3Ds"
   },
   "outputs": [],
   "source": [
    "#Resentando o índice do dataSet\n",
    "dataSet = dataSet.reset_index(drop = True)"
   ]
  },
  {
   "cell_type": "code",
   "execution_count": 9,
   "metadata": {
    "colab": {
     "base_uri": "https://localhost:8080/",
     "height": 204
    },
    "colab_type": "code",
    "id": "n1HddWA3-5p6",
    "outputId": "7ce4e5d0-e06c-4f35-ee05-44fb3330b3eb"
   },
   "outputs": [
    {
     "data": {
      "text/html": [
       "<div>\n",
       "<style scoped>\n",
       "    .dataframe tbody tr th:only-of-type {\n",
       "        vertical-align: middle;\n",
       "    }\n",
       "\n",
       "    .dataframe tbody tr th {\n",
       "        vertical-align: top;\n",
       "    }\n",
       "\n",
       "    .dataframe thead th {\n",
       "        text-align: right;\n",
       "    }\n",
       "</style>\n",
       "<table border=\"1\" class=\"dataframe\">\n",
       "  <thead>\n",
       "    <tr style=\"text-align: right;\">\n",
       "      <th></th>\n",
       "      <th>TempMaxima</th>\n",
       "      <th>Insolacao</th>\n",
       "      <th>Evaporacao Piche</th>\n",
       "      <th>Temp Comp Media</th>\n",
       "      <th>Umidade Relativa Media</th>\n",
       "      <th>Velocidade do Vento Media</th>\n",
       "      <th>Precipitacao</th>\n",
       "      <th>TempMinima</th>\n",
       "      <th>Mes</th>\n",
       "    </tr>\n",
       "  </thead>\n",
       "  <tbody>\n",
       "    <tr>\n",
       "      <th>0</th>\n",
       "      <td>28.6</td>\n",
       "      <td>4.9</td>\n",
       "      <td>3.8</td>\n",
       "      <td>21.62</td>\n",
       "      <td>79.00</td>\n",
       "      <td>2.466667</td>\n",
       "      <td>0.6</td>\n",
       "      <td>18.7</td>\n",
       "      <td>1</td>\n",
       "    </tr>\n",
       "    <tr>\n",
       "      <th>1</th>\n",
       "      <td>28.6</td>\n",
       "      <td>10.8</td>\n",
       "      <td>2.2</td>\n",
       "      <td>21.76</td>\n",
       "      <td>73.25</td>\n",
       "      <td>2.566667</td>\n",
       "      <td>0.0</td>\n",
       "      <td>16.6</td>\n",
       "      <td>1</td>\n",
       "    </tr>\n",
       "    <tr>\n",
       "      <th>2</th>\n",
       "      <td>26.5</td>\n",
       "      <td>0.3</td>\n",
       "      <td>3.0</td>\n",
       "      <td>20.70</td>\n",
       "      <td>81.75</td>\n",
       "      <td>2.266667</td>\n",
       "      <td>0.0</td>\n",
       "      <td>17.4</td>\n",
       "      <td>1</td>\n",
       "    </tr>\n",
       "    <tr>\n",
       "      <th>3</th>\n",
       "      <td>25.3</td>\n",
       "      <td>0.3</td>\n",
       "      <td>1.8</td>\n",
       "      <td>20.20</td>\n",
       "      <td>90.00</td>\n",
       "      <td>1.366667</td>\n",
       "      <td>16.4</td>\n",
       "      <td>17.2</td>\n",
       "      <td>1</td>\n",
       "    </tr>\n",
       "    <tr>\n",
       "      <th>4</th>\n",
       "      <td>25.0</td>\n",
       "      <td>0.2</td>\n",
       "      <td>0.7</td>\n",
       "      <td>21.06</td>\n",
       "      <td>91.00</td>\n",
       "      <td>0.533333</td>\n",
       "      <td>17.9</td>\n",
       "      <td>18.2</td>\n",
       "      <td>1</td>\n",
       "    </tr>\n",
       "  </tbody>\n",
       "</table>\n",
       "</div>"
      ],
      "text/plain": [
       "   TempMaxima  Insolacao  Evaporacao Piche  Temp Comp Media  \\\n",
       "0        28.6        4.9               3.8            21.62   \n",
       "1        28.6       10.8               2.2            21.76   \n",
       "2        26.5        0.3               3.0            20.70   \n",
       "3        25.3        0.3               1.8            20.20   \n",
       "4        25.0        0.2               0.7            21.06   \n",
       "\n",
       "   Umidade Relativa Media  Velocidade do Vento Media  Precipitacao  \\\n",
       "0                   79.00                   2.466667           0.6   \n",
       "1                   73.25                   2.566667           0.0   \n",
       "2                   81.75                   2.266667           0.0   \n",
       "3                   90.00                   1.366667          16.4   \n",
       "4                   91.00                   0.533333          17.9   \n",
       "\n",
       "   TempMinima  Mes  \n",
       "0        18.7    1  \n",
       "1        16.6    1  \n",
       "2        17.4    1  \n",
       "3        17.2    1  \n",
       "4        18.2    1  "
      ]
     },
     "execution_count": 9,
     "metadata": {},
     "output_type": "execute_result"
    }
   ],
   "source": [
    "#Visualizando cabeçalho dos dados\n",
    "dataSet.head()"
   ]
  },
  {
   "cell_type": "code",
   "execution_count": 10,
   "metadata": {
    "colab": {
     "base_uri": "https://localhost:8080/",
     "height": 297
    },
    "colab_type": "code",
    "id": "NFGaK5bh_AXU",
    "outputId": "2c0be85e-ed9c-49d9-aef0-4a3be7cc3a51"
   },
   "outputs": [
    {
     "data": {
      "text/html": [
       "<div>\n",
       "<style scoped>\n",
       "    .dataframe tbody tr th:only-of-type {\n",
       "        vertical-align: middle;\n",
       "    }\n",
       "\n",
       "    .dataframe tbody tr th {\n",
       "        vertical-align: top;\n",
       "    }\n",
       "\n",
       "    .dataframe thead th {\n",
       "        text-align: right;\n",
       "    }\n",
       "</style>\n",
       "<table border=\"1\" class=\"dataframe\">\n",
       "  <thead>\n",
       "    <tr style=\"text-align: right;\">\n",
       "      <th></th>\n",
       "      <th>TempMaxima</th>\n",
       "      <th>Insolacao</th>\n",
       "      <th>Evaporacao Piche</th>\n",
       "      <th>Temp Comp Media</th>\n",
       "      <th>Umidade Relativa Media</th>\n",
       "      <th>Velocidade do Vento Media</th>\n",
       "      <th>Precipitacao</th>\n",
       "      <th>TempMinima</th>\n",
       "      <th>Mes</th>\n",
       "    </tr>\n",
       "  </thead>\n",
       "  <tbody>\n",
       "    <tr>\n",
       "      <th>count</th>\n",
       "      <td>4643.000000</td>\n",
       "      <td>4643.000000</td>\n",
       "      <td>4643.000000</td>\n",
       "      <td>4643.000000</td>\n",
       "      <td>4643.000000</td>\n",
       "      <td>4643.000000</td>\n",
       "      <td>4643.000000</td>\n",
       "      <td>4643.000000</td>\n",
       "      <td>4643.000000</td>\n",
       "    </tr>\n",
       "    <tr>\n",
       "      <th>mean</th>\n",
       "      <td>23.861081</td>\n",
       "      <td>5.033427</td>\n",
       "      <td>2.195865</td>\n",
       "      <td>17.877097</td>\n",
       "      <td>80.161857</td>\n",
       "      <td>2.217933</td>\n",
       "      <td>4.485096</td>\n",
       "      <td>14.052660</td>\n",
       "      <td>6.444325</td>\n",
       "    </tr>\n",
       "    <tr>\n",
       "      <th>std</th>\n",
       "      <td>4.682767</td>\n",
       "      <td>3.676346</td>\n",
       "      <td>1.317875</td>\n",
       "      <td>3.842865</td>\n",
       "      <td>9.428646</td>\n",
       "      <td>0.782140</td>\n",
       "      <td>10.737399</td>\n",
       "      <td>3.932997</td>\n",
       "      <td>3.422445</td>\n",
       "    </tr>\n",
       "    <tr>\n",
       "      <th>min</th>\n",
       "      <td>7.100000</td>\n",
       "      <td>0.000000</td>\n",
       "      <td>0.000000</td>\n",
       "      <td>3.300000</td>\n",
       "      <td>37.750000</td>\n",
       "      <td>0.366667</td>\n",
       "      <td>0.000000</td>\n",
       "      <td>-2.100000</td>\n",
       "      <td>1.000000</td>\n",
       "    </tr>\n",
       "    <tr>\n",
       "      <th>25%</th>\n",
       "      <td>20.500000</td>\n",
       "      <td>1.300000</td>\n",
       "      <td>1.200000</td>\n",
       "      <td>15.200000</td>\n",
       "      <td>74.750000</td>\n",
       "      <td>1.700000</td>\n",
       "      <td>0.000000</td>\n",
       "      <td>11.600000</td>\n",
       "      <td>4.000000</td>\n",
       "    </tr>\n",
       "    <tr>\n",
       "      <th>50%</th>\n",
       "      <td>24.200000</td>\n",
       "      <td>5.200000</td>\n",
       "      <td>2.000000</td>\n",
       "      <td>18.080000</td>\n",
       "      <td>81.250000</td>\n",
       "      <td>2.133333</td>\n",
       "      <td>0.000000</td>\n",
       "      <td>14.400000</td>\n",
       "      <td>6.000000</td>\n",
       "    </tr>\n",
       "    <tr>\n",
       "      <th>75%</th>\n",
       "      <td>27.400000</td>\n",
       "      <td>8.300000</td>\n",
       "      <td>2.900000</td>\n",
       "      <td>20.880000</td>\n",
       "      <td>87.000000</td>\n",
       "      <td>2.633333</td>\n",
       "      <td>2.900000</td>\n",
       "      <td>17.200000</td>\n",
       "      <td>9.000000</td>\n",
       "    </tr>\n",
       "    <tr>\n",
       "      <th>max</th>\n",
       "      <td>34.600000</td>\n",
       "      <td>12.600000</td>\n",
       "      <td>11.600000</td>\n",
       "      <td>27.380000</td>\n",
       "      <td>98.750000</td>\n",
       "      <td>6.400000</td>\n",
       "      <td>128.200000</td>\n",
       "      <td>22.400000</td>\n",
       "      <td>12.000000</td>\n",
       "    </tr>\n",
       "  </tbody>\n",
       "</table>\n",
       "</div>"
      ],
      "text/plain": [
       "        TempMaxima    Insolacao  Evaporacao Piche  Temp Comp Media  \\\n",
       "count  4643.000000  4643.000000       4643.000000      4643.000000   \n",
       "mean     23.861081     5.033427          2.195865        17.877097   \n",
       "std       4.682767     3.676346          1.317875         3.842865   \n",
       "min       7.100000     0.000000          0.000000         3.300000   \n",
       "25%      20.500000     1.300000          1.200000        15.200000   \n",
       "50%      24.200000     5.200000          2.000000        18.080000   \n",
       "75%      27.400000     8.300000          2.900000        20.880000   \n",
       "max      34.600000    12.600000         11.600000        27.380000   \n",
       "\n",
       "       Umidade Relativa Media  Velocidade do Vento Media  Precipitacao  \\\n",
       "count             4643.000000                4643.000000   4643.000000   \n",
       "mean                80.161857                   2.217933      4.485096   \n",
       "std                  9.428646                   0.782140     10.737399   \n",
       "min                 37.750000                   0.366667      0.000000   \n",
       "25%                 74.750000                   1.700000      0.000000   \n",
       "50%                 81.250000                   2.133333      0.000000   \n",
       "75%                 87.000000                   2.633333      2.900000   \n",
       "max                 98.750000                   6.400000    128.200000   \n",
       "\n",
       "        TempMinima          Mes  \n",
       "count  4643.000000  4643.000000  \n",
       "mean     14.052660     6.444325  \n",
       "std       3.932997     3.422445  \n",
       "min      -2.100000     1.000000  \n",
       "25%      11.600000     4.000000  \n",
       "50%      14.400000     6.000000  \n",
       "75%      17.200000     9.000000  \n",
       "max      22.400000    12.000000  "
      ]
     },
     "execution_count": 10,
     "metadata": {},
     "output_type": "execute_result"
    }
   ],
   "source": [
    "#Visualizando descrição resumida dos dados\n",
    "dataSet.describe()"
   ]
  },
  {
   "cell_type": "markdown",
   "metadata": {
    "colab_type": "text",
    "id": "q3bpc4eB_Js-"
   },
   "source": [
    "# Agora vamos separar o que queremos prever (TempMaxima) do restante da base de dados (dataSet)"
   ]
  },
  {
   "cell_type": "code",
   "execution_count": 11,
   "metadata": {
    "colab": {},
    "colab_type": "code",
    "id": "D7ZEpnrw7Jc5"
   },
   "outputs": [],
   "source": [
    "#Separando \"TempMaxima\" de dataSet\n",
    "tempMax = dataSet[\"TempMaxima\"]\n",
    "dataSet = dataSet.drop(columns = [\"TempMaxima\"])"
   ]
  },
  {
   "cell_type": "code",
   "execution_count": 12,
   "metadata": {
    "colab": {},
    "colab_type": "code",
    "id": "ScYBJzXH6zY8"
   },
   "outputs": [],
   "source": [
    "from sklearn.model_selection import train_test_split\n",
    "#Separando os conjuntos de treino e teste com os dados embaralhados, sendo 80% para treino e 20% para teste\n",
    "X_train, X_test, y_train, y_test = train_test_split(dataSet, tempMax, test_size = 0.2, random_state = 9)"
   ]
  },
  {
   "cell_type": "code",
   "execution_count": 13,
   "metadata": {
    "colab": {
     "base_uri": "https://localhost:8080/",
     "height": 34
    },
    "colab_type": "code",
    "id": "q9h-ds5RDtJO",
    "outputId": "5d051a83-4e48-4ce7-c8ba-958694ec9d8b"
   },
   "outputs": [
    {
     "name": "stdout",
     "output_type": "stream",
     "text": [
      "(3714, 8)\n"
     ]
    }
   ],
   "source": [
    "#Visualizando as dimensões da nossa base de treino (isso será útil mais na frente)\n",
    "print(X_train.shape)"
   ]
  },
  {
   "cell_type": "code",
   "execution_count": 14,
   "metadata": {
    "colab": {},
    "colab_type": "code",
    "id": "Dq5QW74EBvBa"
   },
   "outputs": [],
   "source": [
    "from sklearn.preprocessing import MinMaxScaler\n",
    "#Aplicando uma transformação que lineariza os dados entre -1 e 1\n",
    "mms = MinMaxScaler(feature_range=(-1, 1))\n",
    "X_train = mms.fit_transform(X_train)\n",
    "X_test = mms.transform(X_test)"
   ]
  },
  {
   "cell_type": "markdown",
   "metadata": {
    "colab_type": "text",
    "id": "rD4BBoIxCcku"
   },
   "source": [
    "# Agora chegamos no momento esperado: Usar a MLP"
   ]
  },
  {
   "cell_type": "code",
   "execution_count": 15,
   "metadata": {
    "colab": {},
    "colab_type": "code",
    "id": "BXpbv8XKCbwM"
   },
   "outputs": [
    {
     "name": "stderr",
     "output_type": "stream",
     "text": [
      "Using TensorFlow backend.\n"
     ]
    }
   ],
   "source": [
    "from keras.models import Sequential\n",
    "#Declarando a variável \"mlp\" como um objeto do tipo \"Sequential\" (referente às redes de múltiplas camadas) \n",
    "mlp = Sequential()"
   ]
  },
  {
   "cell_type": "code",
   "execution_count": 16,
   "metadata": {
    "colab": {},
    "colab_type": "code",
    "id": "1LJ3GyNCDS6d"
   },
   "outputs": [
    {
     "name": "stdout",
     "output_type": "stream",
     "text": [
      "WARNING:tensorflow:From /home/gilvandro/anaconda3/lib/python3.6/site-packages/tensorflow/python/framework/op_def_library.py:263: colocate_with (from tensorflow.python.framework.ops) is deprecated and will be removed in a future version.\n",
      "Instructions for updating:\n",
      "Colocations handled automatically by placer.\n"
     ]
    }
   ],
   "source": [
    "from keras.layers import Dense\n",
    "#Vamos agora \"brincar\" de adicionar as camadas\n",
    "#Adicionando a camada de entrada\n",
    "mlp.add(Dense(activation = 'tanh', input_dim = 8, units = 8, kernel_initializer = 'random_uniform', bias_initializer='zeros'))\n",
    "#Adicionando a camada escondida\n",
    "mlp.add(Dense(activation = 'tanh', units = 8, kernel_initializer = 'random_uniform', bias_initializer='zeros'))\n",
    "#Adicionando a camada de saída\n",
    "mlp.add(Dense(units = 1, kernel_initializer = 'random_uniform', bias_initializer='zeros'))\n",
    "# Compilando o modelo\n",
    "mlp.compile(loss='mean_squared_error', optimizer = 'adam', metrics= ['mae'])"
   ]
  },
  {
   "cell_type": "markdown",
   "metadata": {
    "colab_type": "text",
    "id": "rwCWmFVMFDRC"
   },
   "source": [
    "# Achou um trabalho árduo? Bom, de todo modo, já chegou ao fim. Agora vamos treinar!"
   ]
  },
  {
   "cell_type": "code",
   "execution_count": 17,
   "metadata": {
    "colab": {
     "base_uri": "https://localhost:8080/",
     "height": 13634
    },
    "colab_type": "code",
    "id": "S57RkwBVFK8J",
    "outputId": "8cc776a1-3135-4c41-97a2-237428d8239f"
   },
   "outputs": [
    {
     "name": "stdout",
     "output_type": "stream",
     "text": [
      "WARNING:tensorflow:From /home/gilvandro/anaconda3/lib/python3.6/site-packages/tensorflow/python/ops/math_ops.py:3066: to_int32 (from tensorflow.python.ops.math_ops) is deprecated and will be removed in a future version.\n",
      "Instructions for updating:\n",
      "Use tf.cast instead.\n",
      "Epoch 1/200\n",
      "3714/3714 [==============================] - 2s 602us/step - loss: 570.2984 - mean_absolute_error: 23.4148\n",
      "Epoch 2/200\n",
      "3714/3714 [==============================] - 0s 49us/step - loss: 487.4061 - mean_absolute_error: 21.5759\n",
      "Epoch 3/200\n",
      "3714/3714 [==============================] - 0s 53us/step - loss: 425.1642 - mean_absolute_error: 20.0807\n",
      "Epoch 4/200\n",
      "3714/3714 [==============================] - 0s 51us/step - loss: 378.1270 - mean_absolute_error: 18.8717\n",
      "Epoch 5/200\n",
      "3714/3714 [==============================] - 0s 50us/step - loss: 338.0749 - mean_absolute_error: 17.7796\n",
      "Epoch 6/200\n",
      "3714/3714 [==============================] - 0s 49us/step - loss: 302.6128 - mean_absolute_error: 16.7516\n",
      "Epoch 7/200\n",
      "3714/3714 [==============================] - 0s 51us/step - loss: 270.6776 - mean_absolute_error: 15.7731\n",
      "Epoch 8/200\n",
      "3714/3714 [==============================] - 0s 51us/step - loss: 241.8755 - mean_absolute_error: 14.8299\n",
      "Epoch 9/200\n",
      "3714/3714 [==============================] - 0s 48us/step - loss: 215.9368 - mean_absolute_error: 13.9318\n",
      "Epoch 10/200\n",
      "3714/3714 [==============================] - 0s 52us/step - loss: 192.3975 - mean_absolute_error: 13.0650\n",
      "Epoch 11/200\n",
      "3714/3714 [==============================] - 0s 52us/step - loss: 171.2124 - mean_absolute_error: 12.2294\n",
      "Epoch 12/200\n",
      "3714/3714 [==============================] - 0s 52us/step - loss: 152.0352 - mean_absolute_error: 11.4261\n",
      "Epoch 13/200\n",
      "3714/3714 [==============================] - 0s 53us/step - loss: 134.7748 - mean_absolute_error: 10.6614\n",
      "Epoch 14/200\n",
      "3714/3714 [==============================] - 0s 54us/step - loss: 119.3453 - mean_absolute_error: 9.9325\n",
      "Epoch 15/200\n",
      "3714/3714 [==============================] - 0s 57us/step - loss: 105.5073 - mean_absolute_error: 9.2394\n",
      "Epoch 16/200\n",
      "3714/3714 [==============================] - 0s 63us/step - loss: 93.1556 - mean_absolute_error: 8.5871\n",
      "Epoch 17/200\n",
      "3714/3714 [==============================] - 0s 53us/step - loss: 82.2978 - mean_absolute_error: 7.9816\n",
      "Epoch 18/200\n",
      "3714/3714 [==============================] - 0s 49us/step - loss: 72.7014 - mean_absolute_error: 7.4295\n",
      "Epoch 19/200\n",
      "3714/3714 [==============================] - 0s 50us/step - loss: 64.2943 - mean_absolute_error: 6.9239\n",
      "Epoch 20/200\n",
      "3714/3714 [==============================] - 0s 57us/step - loss: 57.0075 - mean_absolute_error: 6.4711\n",
      "Epoch 21/200\n",
      "3714/3714 [==============================] - 0s 59us/step - loss: 50.6898 - mean_absolute_error: 6.0600\n",
      "Epoch 22/200\n",
      "3714/3714 [==============================] - 0s 53us/step - loss: 45.2867 - mean_absolute_error: 5.7001\n",
      "Epoch 23/200\n",
      "3714/3714 [==============================] - 0s 50us/step - loss: 40.7395 - mean_absolute_error: 5.3856\n",
      "Epoch 24/200\n",
      "3714/3714 [==============================] - 0s 44us/step - loss: 36.8492 - mean_absolute_error: 5.1058\n",
      "Epoch 25/200\n",
      "3714/3714 [==============================] - 0s 48us/step - loss: 33.6476 - mean_absolute_error: 4.8653\n",
      "Epoch 26/200\n",
      "3714/3714 [==============================] - 0s 45us/step - loss: 30.9972 - mean_absolute_error: 4.6626\n",
      "Epoch 27/200\n",
      "3714/3714 [==============================] - 0s 45us/step - loss: 28.8675 - mean_absolute_error: 4.4932\n",
      "Epoch 28/200\n",
      "3714/3714 [==============================] - 0s 44us/step - loss: 27.1682 - mean_absolute_error: 4.3563\n",
      "Epoch 29/200\n",
      "3714/3714 [==============================] - 0s 42us/step - loss: 25.7797 - mean_absolute_error: 4.2386\n",
      "Epoch 30/200\n",
      "3714/3714 [==============================] - 0s 47us/step - loss: 24.6110 - mean_absolute_error: 4.1398\n",
      "Epoch 31/200\n",
      "3714/3714 [==============================] - 0s 50us/step - loss: 23.6429 - mean_absolute_error: 4.0475\n",
      "Epoch 32/200\n",
      "3714/3714 [==============================] - 0s 50us/step - loss: 22.9283 - mean_absolute_error: 3.9753\n",
      "Epoch 33/200\n",
      "3714/3714 [==============================] - 0s 50us/step - loss: 22.1119 - mean_absolute_error: 3.9104\n",
      "Epoch 34/200\n",
      "3714/3714 [==============================] - 0s 50us/step - loss: 20.9604 - mean_absolute_error: 3.8021\n",
      "Epoch 35/200\n",
      "3714/3714 [==============================] - 0s 50us/step - loss: 17.9496 - mean_absolute_error: 3.4551\n",
      "Epoch 36/200\n",
      "3714/3714 [==============================] - 0s 49us/step - loss: 15.7316 - mean_absolute_error: 3.1999\n",
      "Epoch 37/200\n",
      "3714/3714 [==============================] - 0s 52us/step - loss: 13.9358 - mean_absolute_error: 2.9922\n",
      "Epoch 38/200\n",
      "3714/3714 [==============================] - 0s 43us/step - loss: 12.1037 - mean_absolute_error: 2.7409\n",
      "Epoch 39/200\n",
      "3714/3714 [==============================] - 0s 51us/step - loss: 10.2652 - mean_absolute_error: 2.4856\n",
      "Epoch 40/200\n",
      "3714/3714 [==============================] - 0s 51us/step - loss: 8.5673 - mean_absolute_error: 2.2250\n",
      "Epoch 41/200\n",
      "3714/3714 [==============================] - 0s 49us/step - loss: 7.2707 - mean_absolute_error: 2.0301\n",
      "Epoch 42/200\n",
      "3714/3714 [==============================] - 0s 50us/step - loss: 6.3393 - mean_absolute_error: 1.8902\n",
      "Epoch 43/200\n",
      "3714/3714 [==============================] - 0s 56us/step - loss: 5.6313 - mean_absolute_error: 1.7818\n",
      "Epoch 44/200\n",
      "3714/3714 [==============================] - 0s 49us/step - loss: 5.0686 - mean_absolute_error: 1.6968\n",
      "Epoch 45/200\n",
      "3714/3714 [==============================] - 0s 49us/step - loss: 4.5995 - mean_absolute_error: 1.6160\n",
      "Epoch 46/200\n",
      "3714/3714 [==============================] - 0s 51us/step - loss: 4.2077 - mean_absolute_error: 1.5524\n",
      "Epoch 47/200\n",
      "3714/3714 [==============================] - 0s 49us/step - loss: 3.8813 - mean_absolute_error: 1.4923\n",
      "Epoch 48/200\n",
      "3714/3714 [==============================] - 0s 49us/step - loss: 3.5973 - mean_absolute_error: 1.4407\n",
      "Epoch 49/200\n",
      "3714/3714 [==============================] - 0s 48us/step - loss: 3.3386 - mean_absolute_error: 1.3897\n",
      "Epoch 50/200\n",
      "3714/3714 [==============================] - 0s 54us/step - loss: 3.1186 - mean_absolute_error: 1.3445\n",
      "Epoch 51/200\n",
      "3714/3714 [==============================] - 0s 52us/step - loss: 2.9167 - mean_absolute_error: 1.3026\n",
      "Epoch 52/200\n",
      "3714/3714 [==============================] - 0s 49us/step - loss: 2.7357 - mean_absolute_error: 1.2629\n",
      "Epoch 53/200\n",
      "3714/3714 [==============================] - 0s 48us/step - loss: 2.5789 - mean_absolute_error: 1.2255\n",
      "Epoch 54/200\n",
      "3714/3714 [==============================] - 0s 50us/step - loss: 2.4354 - mean_absolute_error: 1.1916\n",
      "Epoch 55/200\n",
      "3714/3714 [==============================] - 0s 47us/step - loss: 2.2978 - mean_absolute_error: 1.1585\n",
      "Epoch 56/200\n",
      "3714/3714 [==============================] - 0s 48us/step - loss: 2.1759 - mean_absolute_error: 1.1282\n",
      "Epoch 57/200\n",
      "3714/3714 [==============================] - 0s 51us/step - loss: 2.0663 - mean_absolute_error: 1.1008\n",
      "Epoch 58/200\n",
      "3714/3714 [==============================] - 0s 52us/step - loss: 1.9788 - mean_absolute_error: 1.0762\n",
      "Epoch 59/200\n",
      "3714/3714 [==============================] - 0s 61us/step - loss: 1.8775 - mean_absolute_error: 1.0497\n",
      "Epoch 60/200\n",
      "3714/3714 [==============================] - 0s 51us/step - loss: 1.7978 - mean_absolute_error: 1.0259\n",
      "Epoch 61/200\n",
      "3714/3714 [==============================] - 0s 52us/step - loss: 1.7380 - mean_absolute_error: 1.0111\n",
      "Epoch 62/200\n",
      "3714/3714 [==============================] - 0s 48us/step - loss: 1.6661 - mean_absolute_error: 0.9899\n",
      "Epoch 63/200\n",
      "3714/3714 [==============================] - 0s 50us/step - loss: 1.6057 - mean_absolute_error: 0.9696\n",
      "Epoch 64/200\n",
      "3714/3714 [==============================] - 0s 42us/step - loss: 1.5536 - mean_absolute_error: 0.9548\n",
      "Epoch 65/200\n",
      "3714/3714 [==============================] - 0s 46us/step - loss: 1.5167 - mean_absolute_error: 0.9460\n",
      "Epoch 66/200\n",
      "3714/3714 [==============================] - 0s 62us/step - loss: 1.4796 - mean_absolute_error: 0.9345\n",
      "Epoch 67/200\n",
      "3714/3714 [==============================] - 0s 56us/step - loss: 1.4467 - mean_absolute_error: 0.9255\n",
      "Epoch 68/200\n",
      "3714/3714 [==============================] - 0s 58us/step - loss: 1.4186 - mean_absolute_error: 0.9168\n",
      "Epoch 69/200\n",
      "3714/3714 [==============================] - 0s 49us/step - loss: 1.3894 - mean_absolute_error: 0.9088\n",
      "Epoch 70/200\n",
      "3714/3714 [==============================] - 0s 51us/step - loss: 1.3665 - mean_absolute_error: 0.9017\n",
      "Epoch 71/200\n",
      "3714/3714 [==============================] - 0s 50us/step - loss: 1.3528 - mean_absolute_error: 0.9006\n",
      "Epoch 72/200\n",
      "3714/3714 [==============================] - 0s 49us/step - loss: 1.3379 - mean_absolute_error: 0.8949\n",
      "Epoch 73/200\n",
      "3714/3714 [==============================] - 0s 54us/step - loss: 1.3181 - mean_absolute_error: 0.8890\n",
      "Epoch 74/200\n",
      "3714/3714 [==============================] - 0s 52us/step - loss: 1.3012 - mean_absolute_error: 0.8836\n",
      "Epoch 75/200\n",
      "3714/3714 [==============================] - 0s 50us/step - loss: 1.2878 - mean_absolute_error: 0.8785\n",
      "Epoch 76/200\n",
      "3714/3714 [==============================] - 0s 52us/step - loss: 1.2888 - mean_absolute_error: 0.8796\n",
      "Epoch 77/200\n",
      "3714/3714 [==============================] - 0s 55us/step - loss: 1.2766 - mean_absolute_error: 0.8757\n",
      "Epoch 78/200\n",
      "3714/3714 [==============================] - 0s 52us/step - loss: 1.2657 - mean_absolute_error: 0.8726\n",
      "Epoch 79/200\n",
      "3714/3714 [==============================] - 0s 48us/step - loss: 1.2529 - mean_absolute_error: 0.8688\n",
      "Epoch 80/200\n",
      "3714/3714 [==============================] - 0s 49us/step - loss: 1.2505 - mean_absolute_error: 0.8686\n",
      "Epoch 81/200\n",
      "3714/3714 [==============================] - 0s 58us/step - loss: 1.2453 - mean_absolute_error: 0.8681\n",
      "Epoch 82/200\n",
      "3714/3714 [==============================] - 0s 58us/step - loss: 1.2393 - mean_absolute_error: 0.8644\n",
      "Epoch 83/200\n",
      "3714/3714 [==============================] - 0s 57us/step - loss: 1.2327 - mean_absolute_error: 0.8608\n",
      "Epoch 84/200\n",
      "3714/3714 [==============================] - 0s 58us/step - loss: 1.2287 - mean_absolute_error: 0.8622\n",
      "Epoch 85/200\n",
      "3714/3714 [==============================] - 0s 52us/step - loss: 1.2342 - mean_absolute_error: 0.8660\n",
      "Epoch 86/200\n",
      "3714/3714 [==============================] - 0s 51us/step - loss: 1.2138 - mean_absolute_error: 0.8556\n",
      "Epoch 87/200\n",
      "3714/3714 [==============================] - 0s 48us/step - loss: 1.2040 - mean_absolute_error: 0.8518\n",
      "Epoch 88/200\n",
      "3714/3714 [==============================] - 0s 48us/step - loss: 1.2041 - mean_absolute_error: 0.8527\n",
      "Epoch 89/200\n",
      "3714/3714 [==============================] - 0s 53us/step - loss: 1.2035 - mean_absolute_error: 0.8534\n",
      "Epoch 90/200\n",
      "3714/3714 [==============================] - 0s 49us/step - loss: 1.1973 - mean_absolute_error: 0.8509\n",
      "Epoch 91/200\n",
      "3714/3714 [==============================] - 0s 52us/step - loss: 1.1941 - mean_absolute_error: 0.8483\n",
      "Epoch 92/200\n",
      "3714/3714 [==============================] - 0s 49us/step - loss: 1.1893 - mean_absolute_error: 0.8444\n",
      "Epoch 93/200\n",
      "3714/3714 [==============================] - 0s 50us/step - loss: 1.1908 - mean_absolute_error: 0.8477\n",
      "Epoch 94/200\n",
      "3714/3714 [==============================] - 0s 47us/step - loss: 1.1891 - mean_absolute_error: 0.8478\n",
      "Epoch 95/200\n",
      "3714/3714 [==============================] - 0s 50us/step - loss: 1.1823 - mean_absolute_error: 0.8436\n",
      "Epoch 96/200\n",
      "3714/3714 [==============================] - 0s 50us/step - loss: 1.1817 - mean_absolute_error: 0.8440\n",
      "Epoch 97/200\n",
      "3714/3714 [==============================] - 0s 52us/step - loss: 1.1789 - mean_absolute_error: 0.8416\n",
      "Epoch 98/200\n",
      "3714/3714 [==============================] - 0s 49us/step - loss: 1.1751 - mean_absolute_error: 0.8414\n",
      "Epoch 99/200\n",
      "3714/3714 [==============================] - 0s 55us/step - loss: 1.1740 - mean_absolute_error: 0.8402\n",
      "Epoch 100/200\n",
      "3714/3714 [==============================] - 0s 50us/step - loss: 1.1744 - mean_absolute_error: 0.8413\n",
      "Epoch 101/200\n",
      "3714/3714 [==============================] - 0s 49us/step - loss: 1.1674 - mean_absolute_error: 0.8390\n",
      "Epoch 102/200\n",
      "3714/3714 [==============================] - 0s 51us/step - loss: 1.1709 - mean_absolute_error: 0.8413\n",
      "Epoch 103/200\n",
      "3714/3714 [==============================] - 0s 51us/step - loss: 1.1637 - mean_absolute_error: 0.8389\n",
      "Epoch 104/200\n",
      "3714/3714 [==============================] - 0s 52us/step - loss: 1.1642 - mean_absolute_error: 0.8368\n",
      "Epoch 105/200\n",
      "3714/3714 [==============================] - 0s 54us/step - loss: 1.1652 - mean_absolute_error: 0.8379\n",
      "Epoch 106/200\n",
      "3714/3714 [==============================] - 0s 49us/step - loss: 1.1592 - mean_absolute_error: 0.8338\n",
      "Epoch 107/200\n",
      "3714/3714 [==============================] - 0s 50us/step - loss: 1.1549 - mean_absolute_error: 0.8338\n",
      "Epoch 108/200\n",
      "3714/3714 [==============================] - 0s 50us/step - loss: 1.1665 - mean_absolute_error: 0.8366\n",
      "Epoch 109/200\n",
      "3714/3714 [==============================] - 0s 50us/step - loss: 1.1562 - mean_absolute_error: 0.8337\n",
      "Epoch 110/200\n",
      "3714/3714 [==============================] - 0s 52us/step - loss: 1.1503 - mean_absolute_error: 0.8321\n",
      "Epoch 111/200\n",
      "3714/3714 [==============================] - 0s 50us/step - loss: 1.1495 - mean_absolute_error: 0.8327\n",
      "Epoch 112/200\n",
      "3714/3714 [==============================] - 0s 52us/step - loss: 1.1511 - mean_absolute_error: 0.8311\n",
      "Epoch 113/200\n",
      "3714/3714 [==============================] - 0s 48us/step - loss: 1.1478 - mean_absolute_error: 0.8280\n",
      "Epoch 114/200\n",
      "3714/3714 [==============================] - 0s 46us/step - loss: 1.1445 - mean_absolute_error: 0.8286\n",
      "Epoch 115/200\n",
      "3714/3714 [==============================] - 0s 50us/step - loss: 1.1459 - mean_absolute_error: 0.8286\n",
      "Epoch 116/200\n",
      "3714/3714 [==============================] - 0s 51us/step - loss: 1.1440 - mean_absolute_error: 0.8288\n",
      "Epoch 117/200\n",
      "3714/3714 [==============================] - 0s 50us/step - loss: 1.1375 - mean_absolute_error: 0.8254\n",
      "Epoch 118/200\n",
      "3714/3714 [==============================] - 0s 51us/step - loss: 1.1418 - mean_absolute_error: 0.8297\n",
      "Epoch 119/200\n",
      "3714/3714 [==============================] - 0s 45us/step - loss: 1.1319 - mean_absolute_error: 0.8221\n",
      "Epoch 120/200\n",
      "3714/3714 [==============================] - 0s 49us/step - loss: 1.1355 - mean_absolute_error: 0.8251\n",
      "Epoch 121/200\n",
      "3714/3714 [==============================] - 0s 49us/step - loss: 1.1295 - mean_absolute_error: 0.8236\n",
      "Epoch 122/200\n",
      "3714/3714 [==============================] - 0s 47us/step - loss: 1.1276 - mean_absolute_error: 0.8218\n",
      "Epoch 123/200\n",
      "3714/3714 [==============================] - 0s 47us/step - loss: 1.1263 - mean_absolute_error: 0.8197\n",
      "Epoch 124/200\n",
      "3714/3714 [==============================] - 0s 48us/step - loss: 1.1271 - mean_absolute_error: 0.8206\n",
      "Epoch 125/200\n",
      "3714/3714 [==============================] - 0s 50us/step - loss: 1.1244 - mean_absolute_error: 0.8200\n",
      "Epoch 126/200\n",
      "3714/3714 [==============================] - 0s 46us/step - loss: 1.1206 - mean_absolute_error: 0.8210\n",
      "Epoch 127/200\n",
      "3714/3714 [==============================] - 0s 47us/step - loss: 1.1238 - mean_absolute_error: 0.8176\n",
      "Epoch 128/200\n",
      "3714/3714 [==============================] - 0s 52us/step - loss: 1.1273 - mean_absolute_error: 0.8204\n",
      "Epoch 129/200\n",
      "3714/3714 [==============================] - 0s 51us/step - loss: 1.1254 - mean_absolute_error: 0.8218\n",
      "Epoch 130/200\n",
      "3714/3714 [==============================] - 0s 49us/step - loss: 1.1163 - mean_absolute_error: 0.8191\n",
      "Epoch 131/200\n",
      "3714/3714 [==============================] - 0s 47us/step - loss: 1.1141 - mean_absolute_error: 0.8153\n",
      "Epoch 132/200\n",
      "3714/3714 [==============================] - 0s 49us/step - loss: 1.1206 - mean_absolute_error: 0.8200\n",
      "Epoch 133/200\n",
      "3714/3714 [==============================] - 0s 53us/step - loss: 1.1118 - mean_absolute_error: 0.8149\n",
      "Epoch 134/200\n",
      "3714/3714 [==============================] - 0s 51us/step - loss: 1.1143 - mean_absolute_error: 0.8161\n",
      "Epoch 135/200\n",
      "3714/3714 [==============================] - 0s 50us/step - loss: 1.1181 - mean_absolute_error: 0.8142\n",
      "Epoch 136/200\n",
      "3714/3714 [==============================] - 0s 50us/step - loss: 1.1157 - mean_absolute_error: 0.8186\n",
      "Epoch 137/200\n",
      "3714/3714 [==============================] - 0s 53us/step - loss: 1.1074 - mean_absolute_error: 0.8141\n",
      "Epoch 138/200\n"
     ]
    },
    {
     "name": "stdout",
     "output_type": "stream",
     "text": [
      "3714/3714 [==============================] - 0s 53us/step - loss: 1.1083 - mean_absolute_error: 0.8134\n",
      "Epoch 139/200\n",
      "3714/3714 [==============================] - 0s 51us/step - loss: 1.1086 - mean_absolute_error: 0.8141\n",
      "Epoch 140/200\n",
      "3714/3714 [==============================] - 0s 49us/step - loss: 1.1113 - mean_absolute_error: 0.8113\n",
      "Epoch 141/200\n",
      "3714/3714 [==============================] - 0s 51us/step - loss: 1.1102 - mean_absolute_error: 0.8134\n",
      "Epoch 142/200\n",
      "3714/3714 [==============================] - 0s 48us/step - loss: 1.1095 - mean_absolute_error: 0.8138\n",
      "Epoch 143/200\n",
      "3714/3714 [==============================] - 0s 49us/step - loss: 1.1007 - mean_absolute_error: 0.8101\n",
      "Epoch 144/200\n",
      "3714/3714 [==============================] - 0s 50us/step - loss: 1.1110 - mean_absolute_error: 0.8166\n",
      "Epoch 145/200\n",
      "3714/3714 [==============================] - 0s 50us/step - loss: 1.1076 - mean_absolute_error: 0.8133\n",
      "Epoch 146/200\n",
      "3714/3714 [==============================] - 0s 48us/step - loss: 1.1110 - mean_absolute_error: 0.8144\n",
      "Epoch 147/200\n",
      "3714/3714 [==============================] - 0s 49us/step - loss: 1.1101 - mean_absolute_error: 0.8150\n",
      "Epoch 148/200\n",
      "3714/3714 [==============================] - 0s 58us/step - loss: 1.1052 - mean_absolute_error: 0.8126\n",
      "Epoch 149/200\n",
      "3714/3714 [==============================] - 0s 56us/step - loss: 1.1092 - mean_absolute_error: 0.8139\n",
      "Epoch 150/200\n",
      "3714/3714 [==============================] - 0s 57us/step - loss: 1.1016 - mean_absolute_error: 0.8106\n",
      "Epoch 151/200\n",
      "3714/3714 [==============================] - 0s 61us/step - loss: 1.1071 - mean_absolute_error: 0.8115\n",
      "Epoch 152/200\n",
      "3714/3714 [==============================] - 0s 57us/step - loss: 1.0975 - mean_absolute_error: 0.8105\n",
      "Epoch 153/200\n",
      "3714/3714 [==============================] - 0s 60us/step - loss: 1.1139 - mean_absolute_error: 0.8176\n",
      "Epoch 154/200\n",
      "3714/3714 [==============================] - 0s 52us/step - loss: 1.0950 - mean_absolute_error: 0.8082\n",
      "Epoch 155/200\n",
      "3714/3714 [==============================] - 0s 47us/step - loss: 1.0941 - mean_absolute_error: 0.8104\n",
      "Epoch 156/200\n",
      "3714/3714 [==============================] - 0s 62us/step - loss: 1.0994 - mean_absolute_error: 0.8096\n",
      "Epoch 157/200\n",
      "3714/3714 [==============================] - 0s 49us/step - loss: 1.1012 - mean_absolute_error: 0.8127\n",
      "Epoch 158/200\n",
      "3714/3714 [==============================] - 0s 52us/step - loss: 1.1004 - mean_absolute_error: 0.8079\n",
      "Epoch 159/200\n",
      "3714/3714 [==============================] - 0s 57us/step - loss: 1.1012 - mean_absolute_error: 0.8096\n",
      "Epoch 160/200\n",
      "3714/3714 [==============================] - 0s 49us/step - loss: 1.0944 - mean_absolute_error: 0.8087\n",
      "Epoch 161/200\n",
      "3714/3714 [==============================] - 0s 49us/step - loss: 1.0985 - mean_absolute_error: 0.8101\n",
      "Epoch 162/200\n",
      "3714/3714 [==============================] - 0s 59us/step - loss: 1.0951 - mean_absolute_error: 0.8089\n",
      "Epoch 163/200\n",
      "3714/3714 [==============================] - 0s 54us/step - loss: 1.0983 - mean_absolute_error: 0.8093\n",
      "Epoch 164/200\n",
      "3714/3714 [==============================] - 0s 50us/step - loss: 1.1031 - mean_absolute_error: 0.8150\n",
      "Epoch 165/200\n",
      "3714/3714 [==============================] - 0s 48us/step - loss: 1.1044 - mean_absolute_error: 0.8133\n",
      "Epoch 166/200\n",
      "3714/3714 [==============================] - 0s 53us/step - loss: 1.0921 - mean_absolute_error: 0.8067\n",
      "Epoch 167/200\n",
      "3714/3714 [==============================] - 0s 58us/step - loss: 1.0866 - mean_absolute_error: 0.8041\n",
      "Epoch 168/200\n",
      "3714/3714 [==============================] - 0s 51us/step - loss: 1.0892 - mean_absolute_error: 0.8081\n",
      "Epoch 169/200\n",
      "3714/3714 [==============================] - 0s 50us/step - loss: 1.0903 - mean_absolute_error: 0.8059\n",
      "Epoch 170/200\n",
      "3714/3714 [==============================] - 0s 49us/step - loss: 1.1053 - mean_absolute_error: 0.8139\n",
      "Epoch 171/200\n",
      "3714/3714 [==============================] - 0s 50us/step - loss: 1.0882 - mean_absolute_error: 0.8079\n",
      "Epoch 172/200\n",
      "3714/3714 [==============================] - 0s 49us/step - loss: 1.1064 - mean_absolute_error: 0.8141\n",
      "Epoch 173/200\n",
      "3714/3714 [==============================] - 0s 54us/step - loss: 1.0845 - mean_absolute_error: 0.8061\n",
      "Epoch 174/200\n",
      "3714/3714 [==============================] - 0s 54us/step - loss: 1.0909 - mean_absolute_error: 0.8088\n",
      "Epoch 175/200\n",
      "3714/3714 [==============================] - 0s 51us/step - loss: 1.0885 - mean_absolute_error: 0.8082\n",
      "Epoch 176/200\n",
      "3714/3714 [==============================] - 0s 52us/step - loss: 1.1003 - mean_absolute_error: 0.8111\n",
      "Epoch 177/200\n",
      "3714/3714 [==============================] - 0s 51us/step - loss: 1.0934 - mean_absolute_error: 0.8065\n",
      "Epoch 178/200\n",
      "3714/3714 [==============================] - 0s 54us/step - loss: 1.0943 - mean_absolute_error: 0.8090\n",
      "Epoch 179/200\n",
      "3714/3714 [==============================] - 0s 51us/step - loss: 1.0845 - mean_absolute_error: 0.8057\n",
      "Epoch 180/200\n",
      "3714/3714 [==============================] - 0s 51us/step - loss: 1.0989 - mean_absolute_error: 0.8088\n",
      "Epoch 181/200\n",
      "3714/3714 [==============================] - 0s 50us/step - loss: 1.0839 - mean_absolute_error: 0.8053\n",
      "Epoch 182/200\n",
      "3714/3714 [==============================] - 0s 48us/step - loss: 1.0847 - mean_absolute_error: 0.8032\n",
      "Epoch 183/200\n",
      "3714/3714 [==============================] - 0s 48us/step - loss: 1.0849 - mean_absolute_error: 0.8076\n",
      "Epoch 184/200\n",
      "3714/3714 [==============================] - 0s 48us/step - loss: 1.0824 - mean_absolute_error: 0.8055\n",
      "Epoch 185/200\n",
      "3714/3714 [==============================] - 0s 49us/step - loss: 1.0839 - mean_absolute_error: 0.8061\n",
      "Epoch 186/200\n",
      "3714/3714 [==============================] - 0s 54us/step - loss: 1.0798 - mean_absolute_error: 0.8032\n",
      "Epoch 187/200\n",
      "3714/3714 [==============================] - 0s 55us/step - loss: 1.0803 - mean_absolute_error: 0.8035\n",
      "Epoch 188/200\n",
      "3714/3714 [==============================] - 0s 48us/step - loss: 1.0892 - mean_absolute_error: 0.8073\n",
      "Epoch 189/200\n",
      "3714/3714 [==============================] - 0s 46us/step - loss: 1.0869 - mean_absolute_error: 0.8067\n",
      "Epoch 190/200\n",
      "3714/3714 [==============================] - 0s 54us/step - loss: 1.0835 - mean_absolute_error: 0.8057\n",
      "Epoch 191/200\n",
      "3714/3714 [==============================] - 0s 53us/step - loss: 1.0887 - mean_absolute_error: 0.8069\n",
      "Epoch 192/200\n",
      "3714/3714 [==============================] - 0s 54us/step - loss: 1.0871 - mean_absolute_error: 0.8072\n",
      "Epoch 193/200\n",
      "3714/3714 [==============================] - 0s 53us/step - loss: 1.0780 - mean_absolute_error: 0.8043\n",
      "Epoch 194/200\n",
      "3714/3714 [==============================] - 0s 49us/step - loss: 1.0799 - mean_absolute_error: 0.8029\n",
      "Epoch 195/200\n",
      "3714/3714 [==============================] - 0s 49us/step - loss: 1.0846 - mean_absolute_error: 0.8062\n",
      "Epoch 196/200\n",
      "3714/3714 [==============================] - 0s 51us/step - loss: 1.0769 - mean_absolute_error: 0.8014\n",
      "Epoch 197/200\n",
      "3714/3714 [==============================] - 0s 54us/step - loss: 1.0882 - mean_absolute_error: 0.8090\n",
      "Epoch 198/200\n",
      "3714/3714 [==============================] - 0s 54us/step - loss: 1.0806 - mean_absolute_error: 0.8046\n",
      "Epoch 199/200\n",
      "3714/3714 [==============================] - 0s 51us/step - loss: 1.0788 - mean_absolute_error: 0.8036\n",
      "Epoch 200/200\n",
      "3714/3714 [==============================] - 0s 52us/step - loss: 1.0718 - mean_absolute_error: 0.8000\n"
     ]
    },
    {
     "data": {
      "text/plain": [
       "<keras.callbacks.History at 0x7f46f7113be0>"
      ]
     },
     "execution_count": 17,
     "metadata": {},
     "output_type": "execute_result"
    }
   ],
   "source": [
    "#A hora da verdade\n",
    "mlp.fit(x = X_train, y = y_train, epochs = 200, verbose=1)"
   ]
  },
  {
   "cell_type": "code",
   "execution_count": 18,
   "metadata": {
    "colab": {},
    "colab_type": "code",
    "id": "PNL9R7BCHT-z"
   },
   "outputs": [],
   "source": [
    "#Prevendo os valores de temperatura para o conjunto de teste\n",
    "y_pred = mlp.predict(X_test)"
   ]
  },
  {
   "cell_type": "code",
   "execution_count": 19,
   "metadata": {
    "colab": {
     "base_uri": "https://localhost:8080/",
     "height": 295
    },
    "colab_type": "code",
    "id": "VK7jL8RSE3eV",
    "outputId": "23ccb5fa-6462-4288-9a49-f484da313d7a"
   },
   "outputs": [
    {
     "data": {
      "image/png": "[encoded data removed]",
      "text/plain": [
       "<Figure size 432x288 with 1 Axes>"
      ]
     },
     "metadata": {
      "needs_background": "light"
     },
     "output_type": "display_data"
    }
   ],
   "source": [
    "#Vamos primeiro validar o aprendizado graficamente\n",
    "plt.scatter(y_pred, y_test)\n",
    "plt.title(\"Temperatura máxima estimada para o conjunto de teste\")\n",
    "plt.xlabel(\"Temperatura estimada\")\n",
    "plt.ylabel(\"Temperatura real\")\n",
    "plt.show()"
   ]
  },
  {
   "cell_type": "code",
   "execution_count": 20,
   "metadata": {
    "colab": {
     "base_uri": "https://localhost:8080/",
     "height": 34
    },
    "colab_type": "code",
    "id": "UihUGSZbDDmK",
    "outputId": "b33c2cfa-42d5-4d67-9f12-ceca10422147"
   },
   "outputs": [
    {
     "name": "stdout",
     "output_type": "stream",
     "text": [
      "0.8308984181596081\n"
     ]
    }
   ],
   "source": [
    "from sklearn.metrics import mean_absolute_error\n",
    "#Erro absoluto médio entre a temperatura máxima prevista e a real\n",
    "print(mean_absolute_error(y_pred, y_test))"
   ]
  },
  {
   "cell_type": "code",
   "execution_count": 21,
   "metadata": {
    "colab": {
     "base_uri": "https://localhost:8080/",
     "height": 34
    },
    "colab_type": "code",
    "id": "nNB6thyrHPxR",
    "outputId": "c9be2655-daf3-4ba5-a79e-0327d0ff399c"
   },
   "outputs": [
    {
     "name": "stdout",
     "output_type": "stream",
     "text": [
      "1.1683982208619967\n"
     ]
    }
   ],
   "source": [
    "from sklearn.metrics import mean_squared_error\n",
    "#Erro quadrático médio entre a temperatura máxima prevista e a real\n",
    "print(mean_squared_error(y_pred, y_test))"
   ]
  },
  {
   "cell_type": "markdown",
   "metadata": {},
   "source": [
    "Um Jupyter-Notebook escrito por <b> Gilvandro César de Medeiros </b> sob a orientação do Professor <b> Orivaldo Vieira de Santana Junior </b>\n",
    "<br> Contatos:\n",
    "<br> Links para Github\n",
    "<br> Gilvandro - https://github.com/gilvandrocesardemedeiros\n",
    "<br> Orivaldo - https://github.com/orivaldosantana\n",
    "<br> Link para Linkedin \n",
    "<br> Gilvandro - https://www.linkedin.com/in/gilvandromedeiros/"
   ]
  }
 ],
 "metadata": {
  "colab": {
   "collapsed_sections": [
    "jEGvBC99aM2c"
   ],
   "name": "ConceitosMLP.ipynb",
   "provenance": [],
   "version": "0.3.2"
  },
  "kernelspec": {
   "display_name": "Python 3",
   "language": "python",
   "name": "python3"
  },
  "language_info": {
   "codemirror_mode": {
    "name": "ipython",
    "version": 3
   },
   "file_extension": ".py",
   "mimetype": "text/x-python",
   "name": "python",
   "nbconvert_exporter": "python",
   "pygments_lexer": "ipython3",
   "version": "3.6.8"
  }
 },
 "nbformat": 4,
 "nbformat_minor": 1
}
