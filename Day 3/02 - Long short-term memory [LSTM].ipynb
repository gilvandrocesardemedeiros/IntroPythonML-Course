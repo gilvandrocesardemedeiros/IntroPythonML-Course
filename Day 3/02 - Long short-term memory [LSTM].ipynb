{
 "cells": [
  {
   "cell_type": "markdown",
   "metadata": {
    "colab_type": "text",
    "id": "MRXgvNO4GGTK"
   },
   "source": [
    "## *Long short-term memory* (Memória de curto prazo)"
   ]
  },
  {
   "cell_type": "markdown",
   "metadata": {
    "colab_type": "text",
    "id": "C25cQbJy48P8"
   },
   "source": [
    "# Agora vamos resolver um problema prático e bastante desafiador, para verificar o real poder das redes neurais artificiais. Como de costume, vamos primeiro investigar a base de dados que utilizaremos. Dê uma olhada:\n",
    "  \n",
    "https://github.com/Natalnet/GCiD/raw/master/Codes/Data/curitibadiario.csv"
   ]
  },
  {
   "cell_type": "code",
   "execution_count": null,
   "metadata": {
    "colab": {},
    "colab_type": "code",
    "id": "GA54QwgTGZpu"
   },
   "outputs": [],
   "source": [
    "import pandas as pd\n",
    "import numpy as np\n",
    "import matplotlib.pyplot as plt\n",
    "#Leitura de dados\n",
    "dataSet = pd.read_csv(\"https://github.com/Natalnet/GCiD/raw/master/Codes/Data/curitibadiario.csv\",\n",
    "                      skiprows = 16, sep=';')\n"
   ]
  },
  {
   "cell_type": "code",
   "execution_count": null,
   "metadata": {
    "colab": {
     "base_uri": "https://localhost:8080/",
     "height": 204
    },
    "colab_type": "code",
    "id": "Mz2WiP7s5fCE",
    "outputId": "3a136153-6fb1-4f3b-9b68-ac8d78c38d91"
   },
   "outputs": [],
   "source": [
    "#Visualizando cabeçalho dos dados\n",
    "dataSet.head()"
   ]
  },
  {
   "cell_type": "markdown",
   "metadata": {
    "colab_type": "text",
    "id": "L80q1OJ1-PEj"
   },
   "source": [
    "# Velho problema conhecido, que já sabemos como resolver. Vamos simplificar e juntar todos os passos (já estudados) em uma função, que vai retornar nossa base de dados bem mais organizada."
   ]
  },
  {
   "cell_type": "code",
   "execution_count": null,
   "metadata": {
    "colab": {},
    "colab_type": "code",
    "id": "suOCgeY8-Zuk"
   },
   "outputs": [],
   "source": [
    "def OrganizarDados(dataSet):\n",
    "    #Transformando data em variável do tipo datetime\n",
    "    dataSet[\"Data\"] = pd.to_datetime(dataSet[\"Data\"], format = \"%d/%m/%Y\")\n",
    "    #Atribuindo \"Data\" como índice para a base de dados\n",
    "    dataSet = dataSet.set_index(\"Data\")\n",
    "    #Separando os dados em dois dataframes, um para as 00:00 h e outro para as 12:00 h\n",
    "    dataSet00, dataSet12 = dataSet[dataSet[\"Hora\"] == 0], dataSet[dataSet[\"Hora\"] == 1200]\n",
    "    #Descartando as colunas \"Hora\", \"Estacao\" e \"Unnamed: 11\" \n",
    "    dataSet00, dataSet12 = dataSet00.drop(columns = [\"Hora\", \"Estacao\", \"Unnamed: 11\"]), dataSet12.drop(columns = [\"Hora\", \"Estacao\", \"Unnamed: 11\"])\n",
    "    #Eliminando colunas completas por \"NaN\" em cada uma das bases de dados\n",
    "    dataSet00 = dataSet00.drop(columns = [\"Precipitacao\",\"TempMinima\"])\n",
    "    dataSet12 = dataSet12.drop(columns = [\"TempMaxima\",\"Insolacao\",\"Evaporacao Piche\",\"Temp Comp Media\",\"Umidade Relativa Media\",\"Velocidade do Vento Media\"])\n",
    "    #Criando o intervalo completo de tempo de 01-01-2005 à 31-12-2017\n",
    "    dataInicial = '2005-01-01'\n",
    "    dataFinal = '2017-12-31'\n",
    "    tempo = pd.date_range(dataInicial, dataFinal)\n",
    "    #Atribuindo este intervalo de tempo à um dataSet provisório\n",
    "    dataSetProv = pd.DataFrame()\n",
    "    dataSetProv[\"Data\"] = tempo\n",
    "    #Atribuindo o índice para o dataSet provisório como sendo a coluna de datas\n",
    "    dataSetProv = dataSetProv.set_index(\"Data\")\n",
    "    #Mesclando o dataSet provisório como sendo o resultado da junção dos dataSet00 e dataSet12\n",
    "    dataSetProv = dataSetProv.join(dataSet00).join(dataSet12)\n",
    "    #Tornando o dataSet como sendo o dataSet provisório\n",
    "    dataSet = dataSetProv  \n",
    "    return dataSet"
   ]
  },
  {
   "cell_type": "code",
   "execution_count": null,
   "metadata": {
    "colab": {},
    "colab_type": "code",
    "id": "bKoRgM0c-rjf"
   },
   "outputs": [],
   "source": [
    "#Aplicando a função ao dataSet\n",
    "dataSet = OrganizarDados(dataSet)"
   ]
  },
  {
   "cell_type": "markdown",
   "metadata": {
    "colab_type": "text",
    "id": "Ut10fr2I6NWW"
   },
   "source": [
    "# Nosso objetivo hoje é prever temperatura máxima para um determinado dia, dada uma determinada combinação de outras variáveis. Será que conseguimos?"
   ]
  },
  {
   "cell_type": "code",
   "execution_count": null,
   "metadata": {
    "colab": {
     "base_uri": "https://localhost:8080/",
     "height": 295
    },
    "colab_type": "code",
    "id": "DhT2TpIg6DY_",
    "outputId": "e2fd298f-8e5e-4ef7-a9e4-8ce40f318a41"
   },
   "outputs": [],
   "source": [
    "#Visualizando relação dos dados\n",
    "plt.scatter(dataSet.index, dataSet[\"TempMaxima\"])\n",
    "plt.title(\"Distribuição de temperatura máxima ao longo dos últimos anos\")\n",
    "plt.xlabel(\"Data\")\n",
    "plt.ylabel(\"Temperatura máxima diária\")\n",
    "plt.show()"
   ]
  },
  {
   "cell_type": "markdown",
   "metadata": {
    "colab_type": "text",
    "id": "NnUnyVf160QZ"
   },
   "source": [
    "# Não parece nada simples, hein? Desafio você a tentar modelar uma função polinomial que descreva o comportamento desse problema. O último ser humano que tentou realizar essa proeza foi encontrado meses depois congelado em uma caverna no Alaska (fonte: FEI - Fatos que Eu Inventei)"
   ]
  },
  {
   "cell_type": "code",
   "execution_count": null,
   "metadata": {
    "colab": {},
    "colab_type": "code",
    "id": "7-eMKEw0-0us"
   },
   "outputs": [],
   "source": [
    "#Eliminando eventos inconsistentes da base de dados\n",
    "dataSet = dataSet.dropna()"
   ]
  },
  {
   "cell_type": "code",
   "execution_count": null,
   "metadata": {
    "colab": {},
    "colab_type": "code",
    "id": "iTMULiEu-3Ds"
   },
   "outputs": [],
   "source": [
    "#Resentando o índice do dataSet\n",
    "dataSet = dataSet.reset_index(drop = True)"
   ]
  },
  {
   "cell_type": "code",
   "execution_count": null,
   "metadata": {
    "colab": {
     "base_uri": "https://localhost:8080/",
     "height": 204
    },
    "colab_type": "code",
    "id": "n1HddWA3-5p6",
    "outputId": "7ce4e5d0-e06c-4f35-ee05-44fb3330b3eb"
   },
   "outputs": [],
   "source": [
    "#Visualizando cabeçalho dos dados\n",
    "dataSet.head()"
   ]
  },
  {
   "cell_type": "code",
   "execution_count": null,
   "metadata": {
    "colab": {
     "base_uri": "https://localhost:8080/",
     "height": 297
    },
    "colab_type": "code",
    "id": "NFGaK5bh_AXU",
    "outputId": "2c0be85e-ed9c-49d9-aef0-4a3be7cc3a51"
   },
   "outputs": [],
   "source": [
    "#Visualizando descrição resumida dos dados\n",
    "dataSet.describe()"
   ]
  },
  {
   "cell_type": "code",
   "execution_count": null,
   "metadata": {},
   "outputs": [],
   "source": [
    "#Importando biblioteca útil\n",
    "from sklearn.preprocessing import MinMaxScaler"
   ]
  },
  {
   "cell_type": "code",
   "execution_count": null,
   "metadata": {
    "colab": {},
    "colab_type": "code",
    "id": "D7ZEpnrw7Jc5"
   },
   "outputs": [],
   "source": [
    "#Separando \"TempMaxima\" de dataSet\n",
    "tempMax = dataSet[\"TempMaxima\"].values"
   ]
  },
  {
   "cell_type": "code",
   "execution_count": null,
   "metadata": {},
   "outputs": [],
   "source": [
    "tempMax[0:11]"
   ]
  },
  {
   "cell_type": "code",
   "execution_count": null,
   "metadata": {},
   "outputs": [],
   "source": [
    "#Preparando dados para a LSTM\n",
    "x_train, y_train = [], []\n",
    "for i in range(10, len(tempMax)):\n",
    "    x_train.append(tempMax[(i-10):i])\n",
    "    y_train.append(tempMax[i])"
   ]
  },
  {
   "cell_type": "code",
   "execution_count": null,
   "metadata": {},
   "outputs": [],
   "source": [
    "x_train[0]"
   ]
  },
  {
   "cell_type": "code",
   "execution_count": null,
   "metadata": {},
   "outputs": [],
   "source": [
    "y_train[0]"
   ]
  },
  {
   "cell_type": "code",
   "execution_count": null,
   "metadata": {},
   "outputs": [],
   "source": [
    "#Efetuando uma transformação linear entre o mínimo e o máximo, linearizando entre (-1,1) para todas as variáveis\n",
    "mms = MinMaxScaler(feature_range=(-1,1))\n",
    "tempMax = mms.fit_transform(tempMax.reshape(-1,1))"
   ]
  },
  {
   "cell_type": "code",
   "execution_count": null,
   "metadata": {},
   "outputs": [],
   "source": [
    "#Preparando dados para a LSTM\n",
    "x_train, y_train = [], []\n",
    "for i in range(10, len(tempMax)):\n",
    "    x_train.append(tempMax[(i-10):i])\n",
    "    y_train.append(tempMax[i])"
   ]
  },
  {
   "cell_type": "code",
   "execution_count": null,
   "metadata": {},
   "outputs": [],
   "source": [
    "#Transformando x_train e y_train em numpyArray\n",
    "x_train, y_train = np.array(x_train), np.array(y_train)"
   ]
  },
  {
   "cell_type": "code",
   "execution_count": null,
   "metadata": {},
   "outputs": [],
   "source": [
    "#Dimensões da base de dados de entrada para treino\n",
    "x_train.shape"
   ]
  },
  {
   "cell_type": "code",
   "execution_count": null,
   "metadata": {},
   "outputs": [],
   "source": [
    "#Dimensões da base de dados de saída para treino\n",
    "y_train.shape"
   ]
  },
  {
   "cell_type": "code",
   "execution_count": null,
   "metadata": {},
   "outputs": [],
   "source": [
    "#Substituindo NaN por 0\n",
    "x_train = np.nan_to_num(x_train)\n",
    "y_train = np.nan_to_num(y_train)"
   ]
  },
  {
   "cell_type": "code",
   "execution_count": null,
   "metadata": {},
   "outputs": [],
   "source": [
    "#Importando bibliotecas para treinar LSTM\n",
    "from keras.models import Sequential\n",
    "from keras.layers import Dense\n",
    "from keras.layers import LSTM"
   ]
  },
  {
   "cell_type": "code",
   "execution_count": null,
   "metadata": {},
   "outputs": [],
   "source": [
    "#Criando o modelo de previsão do tipo sequential\n",
    "regressor = Sequential()"
   ]
  },
  {
   "cell_type": "code",
   "execution_count": null,
   "metadata": {},
   "outputs": [],
   "source": [
    "#Adicionando camada de entrada\n",
    "regressor.add(LSTM(units = 10, return_sequences = True, input_shape = (x_train.shape[1], x_train.shape[2])))"
   ]
  },
  {
   "cell_type": "code",
   "execution_count": null,
   "metadata": {},
   "outputs": [],
   "source": [
    "#Adicionando primeira camada escondida\n",
    "regressor.add(LSTM(units = 10, return_sequences = True))"
   ]
  },
  {
   "cell_type": "code",
   "execution_count": null,
   "metadata": {},
   "outputs": [],
   "source": [
    "#Adicionando segunda camada escondida\n",
    "regressor.add(LSTM(units = 10))"
   ]
  },
  {
   "cell_type": "code",
   "execution_count": null,
   "metadata": {},
   "outputs": [],
   "source": [
    "#Adicionando camada de saída\n",
    "regressor.add(Dense(activation = \"tanh\", units = y_train.shape[1]))"
   ]
  },
  {
   "cell_type": "code",
   "execution_count": null,
   "metadata": {},
   "outputs": [],
   "source": [
    "#Compilando a rede neural\n",
    "regressor.compile(optimizer = \"adam\", loss = \"mean_squared_error\")"
   ]
  },
  {
   "cell_type": "code",
   "execution_count": null,
   "metadata": {},
   "outputs": [],
   "source": [
    "#Ajustando a rede neural\n",
    "regressor.fit(x_train, y_train, epochs = 50, batch_size = 32)"
   ]
  },
  {
   "cell_type": "code",
   "execution_count": null,
   "metadata": {},
   "outputs": [],
   "source": [
    "#Previsão\n",
    "y_predicted = regressor.predict(x_train)"
   ]
  },
  {
   "cell_type": "code",
   "execution_count": null,
   "metadata": {},
   "outputs": [],
   "source": [
    "#Bibliotecas para validar o funcionamento da rede\n",
    "from sklearn.metrics import mean_absolute_error\n",
    "from sklearn.metrics import max_error\n",
    "from sklearn.metrics import mean_squared_error\n",
    "import matplotlib.pyplot as plt"
   ]
  }
 ],
 "metadata": {
  "colab": {
   "collapsed_sections": [
    "jEGvBC99aM2c"
   ],
   "name": "ConceitosMLP.ipynb",
   "provenance": [],
   "version": "0.3.2"
  },
  "kernelspec": {
   "display_name": "Python 3",
   "language": "python",
   "name": "python3"
  },
  "language_info": {
   "codemirror_mode": {
    "name": "ipython",
    "version": 3
   },
   "file_extension": ".py",
   "mimetype": "text/x-python",
   "name": "python",
   "nbconvert_exporter": "python",
   "pygments_lexer": "ipython3",
   "version": "3.6.8"
  }
 },
 "nbformat": 4,
 "nbformat_minor": 1
}
