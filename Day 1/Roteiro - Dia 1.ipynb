{
  "nbformat": 4,
  "nbformat_minor": 0,
  "metadata": {
    "colab": {
      "name": "Roteiro - Dia 1.ipynb",
      "version": "0.3.2",
      "provenance": []
    },
    "language_info": {
      "codemirror_mode": {
        "name": "ipython",
        "version": 3
      },
      "file_extension": ".py",
      "mimetype": "text/x-python",
      "name": "python",
      "nbconvert_exporter": "python",
      "pygments_lexer": "ipython3",
      "version": "3.6.8"
    },
    "kernelspec": {
      "display_name": "Python 3",
      "language": "python",
      "name": "python3"
    }
  },
  "cells": [
    {
      "cell_type": "markdown",
      "metadata": {
        "id": "WDGK9QA8X9yH",
        "colab_type": "text"
      },
      "source": [
        "<h2> Primeiro certifique-se de que escolheu sua base de dados, no link: \n",
        "    \n",
        "<br>https://github.com/gilvandrocesardemedeiros/IntroPythonML-Course/tree/master/Dados-Meteorologia\n",
        "\n",
        "Recomenda-se que você cole abaixo o link para a base de dados da cidade que escolheu para trabalhar e lembre-se de salvar uma cópia deste Jupyter-Notebook no seu Google Drive, Github ou baixar para o computador.\n",
        "<br><br><br>Cidade: XXXXXXXXXXXXXXXXXXXXXXXXXXXXXXXXXXXXXXXX"
      ]
    },
    {
      "cell_type": "code",
      "metadata": {
        "id": "Det9kABHX9yQ",
        "colab_type": "code",
        "colab": {}
      },
      "source": [
        "#Antes de começarmos, vamos discutir um pouco sobre estruturas de dados e estruturas de repetição Python"
      ],
      "execution_count": 0,
      "outputs": []
    },
    {
      "cell_type": "markdown",
      "metadata": {
        "id": "68MuYhA0X9yj",
        "colab_type": "text"
      },
      "source": [
        "Documentação: https://docs.python.org/3.7/tutorial/datastructures.html"
      ]
    },
    {
      "cell_type": "code",
      "metadata": {
        "id": "ig8pWWB3X9yn",
        "colab_type": "code",
        "colab": {}
      },
      "source": [
        "#Listas"
      ],
      "execution_count": 0,
      "outputs": []
    },
    {
      "cell_type": "code",
      "metadata": {
        "id": "KXyrFV7LX9yz",
        "colab_type": "code",
        "colab": {}
      },
      "source": [
        "#Tuplas"
      ],
      "execution_count": 0,
      "outputs": []
    },
    {
      "cell_type": "code",
      "metadata": {
        "id": "A79a0v3IX9y-",
        "colab_type": "code",
        "colab": {}
      },
      "source": [
        "#Dicionários"
      ],
      "execution_count": 0,
      "outputs": []
    },
    {
      "cell_type": "code",
      "metadata": {
        "id": "Mh0c6PTPX9zJ",
        "colab_type": "code",
        "colab": {}
      },
      "source": [
        "#Laço for"
      ],
      "execution_count": 0,
      "outputs": []
    },
    {
      "cell_type": "code",
      "metadata": {
        "id": "O1IVj-6kX9zS",
        "colab_type": "code",
        "colab": {}
      },
      "source": [
        "#Laço while"
      ],
      "execution_count": 0,
      "outputs": []
    },
    {
      "cell_type": "code",
      "metadata": {
        "id": "qRU6re2Zbrxp",
        "colab_type": "code",
        "colab": {}
      },
      "source": [
        "#Entrada de dados"
      ],
      "execution_count": 0,
      "outputs": []
    },
    {
      "cell_type": "code",
      "metadata": {
        "id": "RSm6IEuKX9zc",
        "colab_type": "code",
        "colab": {}
      },
      "source": [
        "#Agora vamos discutir sobre as bibliotecas NumPy e Pandas"
      ],
      "execution_count": 0,
      "outputs": []
    },
    {
      "cell_type": "markdown",
      "metadata": {
        "id": "5T8M6sUwX9zn",
        "colab_type": "text"
      },
      "source": [
        "Documentação NumPy: https://docs.scipy.org/doc/numpy/docs/howto_document.html"
      ]
    },
    {
      "cell_type": "markdown",
      "metadata": {
        "id": "J8AwEwTVX9zr",
        "colab_type": "text"
      },
      "source": [
        "Documentação Pandas: https://pandas.pydata.org/pandas-docs/stable/"
      ]
    },
    {
      "cell_type": "code",
      "metadata": {
        "id": "LwIic7BXX9zw",
        "colab_type": "code",
        "colab": {}
      },
      "source": [
        "#Ok, agora vamos ler a base de dados"
      ],
      "execution_count": 0,
      "outputs": []
    },
    {
      "cell_type": "markdown",
      "metadata": {
        "id": "qgytbrFnX9z5",
        "colab_type": "text"
      },
      "source": [
        "https://pandas.pydata.org/pandas-docs/stable/reference/io.html"
      ]
    },
    {
      "cell_type": "code",
      "metadata": {
        "id": "BL6oYiKUX9z8",
        "colab_type": "code",
        "colab": {}
      },
      "source": [
        "#Como visualizamos a base de dados por completo?"
      ],
      "execution_count": 0,
      "outputs": []
    },
    {
      "cell_type": "code",
      "metadata": {
        "id": "mdnXQh2XX90H",
        "colab_type": "code",
        "colab": {}
      },
      "source": [
        "#Não quero ver tudo, apenas o cabeçalho dos dados. Como faço?"
      ],
      "execution_count": 0,
      "outputs": []
    },
    {
      "cell_type": "code",
      "metadata": {
        "id": "Kk6xeYh9X90O",
        "colab_type": "code",
        "colab": {}
      },
      "source": [
        "#E se quisermos visualizar apenas uma das colunas?"
      ],
      "execution_count": 0,
      "outputs": []
    },
    {
      "cell_type": "code",
      "metadata": {
        "id": "Ba5TmLrgX90Y",
        "colab_type": "code",
        "colab": {}
      },
      "source": [
        "#Mas e se eu quiser visualizar duas, três ou mais colunas?"
      ],
      "execution_count": 0,
      "outputs": []
    },
    {
      "cell_type": "code",
      "metadata": {
        "id": "ykxHQdGOX90f",
        "colab_type": "code",
        "colab": {}
      },
      "source": [
        "#E se eu quiser ver apenas os valores dos dados (sem os índices)?"
      ],
      "execution_count": 0,
      "outputs": []
    },
    {
      "cell_type": "code",
      "metadata": {
        "id": "bpQ1BU_JX90m",
        "colab_type": "code",
        "colab": {}
      },
      "source": [
        "#Agora eu quero ver apenas os índices! Como faço?"
      ],
      "execution_count": 0,
      "outputs": []
    },
    {
      "cell_type": "code",
      "metadata": {
        "id": "IbjEzuXNX90u",
        "colab_type": "code",
        "colab": {}
      },
      "source": [
        "#Como que eu sei com que tipo de dado estou trabalhando?"
      ],
      "execution_count": 0,
      "outputs": []
    },
    {
      "cell_type": "code",
      "metadata": {
        "id": "5fG8siRLX902",
        "colab_type": "code",
        "colab": {}
      },
      "source": [
        "#E se eu quiser apenas receber os nomes das colunas e guardar em uma lista?"
      ],
      "execution_count": 0,
      "outputs": []
    },
    {
      "cell_type": "code",
      "metadata": {
        "id": "bmUps_pfX90-",
        "colab_type": "code",
        "colab": {}
      },
      "source": [
        "#Ok, mas se eu quiser agora indexar por linhas. Como faço?"
      ],
      "execution_count": 0,
      "outputs": []
    },
    {
      "cell_type": "code",
      "metadata": {
        "id": "Lzm9s1IXX91H",
        "colab_type": "code",
        "colab": {}
      },
      "source": [
        "#Como que eu elimino uma coluna indesejada?"
      ],
      "execution_count": 0,
      "outputs": []
    },
    {
      "cell_type": "code",
      "metadata": {
        "id": "d1gOaUpuX91O",
        "colab_type": "code",
        "colab": {}
      },
      "source": [
        "#Há alguma forma interessante de se trabalhar com datas em Python?\n",
        "#from datetime import datetime\n",
        "#pd.to_datetime(dataSet[\"Data\"], format = \"%d/%m/%Y\")"
      ],
      "execution_count": 0,
      "outputs": []
    },
    {
      "cell_type": "code",
      "metadata": {
        "id": "TCWXPywtX91U",
        "colab_type": "code",
        "colab": {}
      },
      "source": [
        "#Como que eu verifico as dimensões (número de linhas e de colunas) da minha base de dados?"
      ],
      "execution_count": 0,
      "outputs": []
    },
    {
      "cell_type": "code",
      "metadata": {
        "id": "IVir0BviX91c",
        "colab_type": "code",
        "colab": {}
      },
      "source": [
        "#Existe uma forma para descrever rapidamente a minha base de dados?"
      ],
      "execution_count": 0,
      "outputs": []
    },
    {
      "cell_type": "code",
      "metadata": {
        "id": "ud08Fz5IX91m",
        "colab_type": "code",
        "colab": {}
      },
      "source": [
        "#Parece que há dados inconsistentes na minha base de dados. Como eu posso eliminar?"
      ],
      "execution_count": 0,
      "outputs": []
    },
    {
      "cell_type": "code",
      "metadata": {
        "id": "R-QTbfqEX91v",
        "colab_type": "code",
        "colab": {}
      },
      "source": [
        "#Eu quero só as informações de dados em que houve muita chuva ou que foram dias muito quentes! Como faço?"
      ],
      "execution_count": 0,
      "outputs": []
    },
    {
      "cell_type": "code",
      "metadata": {
        "id": "lASIMJs5X911",
        "colab_type": "code",
        "colab": {}
      },
      "source": [
        "#Agora eu quero trabalhar com gráficos. Como posso fazer isso?"
      ],
      "execution_count": 0,
      "outputs": []
    },
    {
      "cell_type": "markdown",
      "metadata": {
        "id": "rJEi2Dg6X916",
        "colab_type": "text"
      },
      "source": [
        "Documentação Matplotlib: https://matplotlib.org/gallery/index.html"
      ]
    },
    {
      "cell_type": "markdown",
      "metadata": {
        "id": "mTG0m8ysX91_",
        "colab_type": "text"
      },
      "source": [
        "Scatter Plot: https://matplotlib.org/api/_as_gen/matplotlib.pyplot.scatter.html#matplotlib.pyplot.scatter"
      ]
    },
    {
      "cell_type": "code",
      "metadata": {
        "id": "aXftC9ANX92B",
        "colab_type": "code",
        "colab": {}
      },
      "source": [
        "#Hora de brincar com os gráficos! O mais simples deles é o scatter plot. \n",
        "#Vale a pena começar por ele e brincar com a base de dados, para gerar visualizações interessantes. Vamos lá?"
      ],
      "execution_count": 0,
      "outputs": []
    },
    {
      "cell_type": "code",
      "metadata": {
        "id": "L15-wJShX92Q",
        "colab_type": "code",
        "colab": {}
      },
      "source": [
        "#Lembre-se de salvar seu Jupyter-Notebook! Será seu material de estudos."
      ],
      "execution_count": 0,
      "outputs": []
    },
    {
      "cell_type": "markdown",
      "metadata": {
        "id": "mNFMharlbGvU",
        "colab_type": "text"
      },
      "source": [
        "<b>Contatos:</b>\n",
        "<br>Link para Github: https://github.com/gilvandrocesardemedeiros\n",
        "<br>Link para Linkedin: https://www.linkedin.com/in/gilvandromedeiros/"
      ]
    }
  ]
}