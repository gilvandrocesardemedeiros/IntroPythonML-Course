{
 "cells": [
  {
   "cell_type": "markdown",
   "metadata": {
    "colab_type": "text",
    "id": "4s2Ck98tPfxU"
   },
   "source": [
    "# Hoje, começaremos a tratar de algoritmos um pouco mais avançados. Começaremos falando de clusters, usando K-Means!"
   ]
  },
  {
   "cell_type": "code",
   "execution_count": null,
   "metadata": {
    "colab": {},
    "colab_type": "code",
    "id": "1tQdUxMGPfxd"
   },
   "outputs": [],
   "source": [
    "#Importando bibliotecas básicas\n",
    "import numpy as np\n",
    "import pandas as pd\n",
    "import matplotlib.pyplot as plt"
   ]
  },
  {
   "cell_type": "markdown",
   "metadata": {
    "colab_type": "text",
    "id": "yreC8FtzPfxx"
   },
   "source": [
    "<h3> Sempre bom conhecer nossa base de dados antes de começar a trabalhar, certo? Dê uma olhada: \n",
    "    \n",
    "https://raw.githubusercontent.com/gilvandrocesardemedeiros/GEDataScience/master/Codes/Data/INMET-Dados_Mensais_Natal_1968-2018.csv"
   ]
  },
  {
   "cell_type": "code",
   "execution_count": null,
   "metadata": {
    "colab": {},
    "colab_type": "code",
    "id": "vM409ymdPfx0"
   },
   "outputs": [],
   "source": [
    "#Lendo os dados\n",
    "dataSet = pd.read_csv(\"https://raw.githubusercontent.com/gilvandrocesardemedeiros/GEDataScience/master/Codes/Data/INMET-Dados_Mensais_Natal_1968-2018.csv\",\n",
    "                      sep=';')"
   ]
  },
  {
   "cell_type": "code",
   "execution_count": null,
   "metadata": {
    "colab": {
     "base_uri": "https://localhost:8080/",
     "height": 244
    },
    "colab_type": "code",
    "id": "rEPd3jowPfyD",
    "outputId": "adb2a6ea-bbe9-442d-c2d4-b83b409b367d"
   },
   "outputs": [],
   "source": [
    "#Visualizando cabeçalho dos dados\n",
    "dataSet.head()"
   ]
  },
  {
   "cell_type": "code",
   "execution_count": null,
   "metadata": {
    "colab": {
     "base_uri": "https://localhost:8080/",
     "height": 338
    },
    "colab_type": "code",
    "id": "kuqMDv5fPfye",
    "outputId": "f6b04724-e67c-4b14-c95b-72073ee703f3"
   },
   "outputs": [],
   "source": [
    "#Visualizando descrição resumida dos dados\n",
    "dataSet.describe()"
   ]
  },
  {
   "cell_type": "code",
   "execution_count": null,
   "metadata": {
    "colab": {},
    "colab_type": "code",
    "id": "2Yv-zo1mPfyy"
   },
   "outputs": [],
   "source": [
    "#Transformando data em variável do tipo datetime\n",
    "dataSet[\"Data\"] = pd.to_datetime(dataSet[\"Data\"], format = \"%d/%m/%Y\")"
   ]
  },
  {
   "cell_type": "markdown",
   "metadata": {
    "colab_type": "text",
    "id": "Mw2O1Nk2Pfy7"
   },
   "source": [
    "# Nosso objetivo com K-Means é agrupar (\"clusterizar\") os dados de precipitação mensal, na tentativa de criar um padrão para identificar se um dado evento configura-se como um mês chuvoso ou não relativamente à cidade de Natal."
   ]
  },
  {
   "cell_type": "code",
   "execution_count": null,
   "metadata": {
    "colab": {},
    "colab_type": "code",
    "id": "k2kUhx-hPfy-"
   },
   "outputs": [],
   "source": [
    "#Declarando variáveis auxiliares para determinar o período de análise dos dados\n",
    "diaInicial = pd.to_datetime(\"01/01/2008\", format = \"%d/%m/%Y\")\n",
    "diaFinal = pd.to_datetime(\"31/12/2018\", format = \"%d/%m/%Y\")"
   ]
  },
  {
   "cell_type": "code",
   "execution_count": null,
   "metadata": {
    "colab": {},
    "colab_type": "code",
    "id": "zyc1MAP2PfzO"
   },
   "outputs": [],
   "source": [
    "#Retornando apenas o dataset correspondente ao período acima mencionado\n",
    "dataSetPrec = dataSet[(dataSet[\"Data\"] >= diaInicial) & (dataSet[\"Data\"] <= diaFinal)]"
   ]
  },
  {
   "cell_type": "code",
   "execution_count": null,
   "metadata": {
    "colab": {
     "base_uri": "https://localhost:8080/",
     "height": 244
    },
    "colab_type": "code",
    "id": "6JGMKoT_PfzX",
    "outputId": "7214891b-f3bc-4066-a8dd-ad593a42605e"
   },
   "outputs": [],
   "source": [
    "#Visualizando cabeçalho dos dados\n",
    "dataSetPrec.head()"
   ]
  },
  {
   "cell_type": "code",
   "execution_count": null,
   "metadata": {
    "colab": {
     "base_uri": "https://localhost:8080/",
     "height": 338
    },
    "colab_type": "code",
    "id": "J99rmsl9Pfzn",
    "outputId": "bc3e78ed-ec42-4ac9-a872-26ebd581c2ec"
   },
   "outputs": [],
   "source": [
    "#Visualizando descrição resumida dos dados\n",
    "dataSetPrec.describe()"
   ]
  },
  {
   "cell_type": "code",
   "execution_count": null,
   "metadata": {
    "colab": {},
    "colab_type": "code",
    "id": "RFmqHwEDPfz9"
   },
   "outputs": [],
   "source": [
    "#Vamos trabalhar apenas com as variáveis \"NumDiasPrecipitacao\" e \"PrecipitacaoTotal\"\n",
    "dataSetPrec = dataSetPrec[[\"NumDiasPrecipitacao\",\"PrecipitacaoTotal\"]].dropna().reset_index(drop = True)"
   ]
  },
  {
   "cell_type": "code",
   "execution_count": null,
   "metadata": {
    "colab": {
     "base_uri": "https://localhost:8080/",
     "height": 295
    },
    "colab_type": "code",
    "id": "gfRfJa9LPf0H",
    "outputId": "182fd556-6d32-4f88-b411-744c33067333"
   },
   "outputs": [],
   "source": [
    "#Visualizando relação dos dados\n",
    "plt.scatter(dataSetPrec[\"NumDiasPrecipitacao\"], dataSetPrec[\"PrecipitacaoTotal\"])\n",
    "plt.title(\"Distribuição de chuva mensal de 2008 à 2018\")\n",
    "plt.xlabel(\"Dias em que ocorreu precipitação\")\n",
    "plt.ylabel(\"Precipitação acumulada mensalmente\")\n",
    "plt.show()"
   ]
  },
  {
   "cell_type": "code",
   "execution_count": null,
   "metadata": {
    "colab": {},
    "colab_type": "code",
    "id": "ywPADQAXPf0V"
   },
   "outputs": [],
   "source": [
    "#Importando biblioteca para trabalhar com KMeans\n",
    "from sklearn.cluster import KMeans"
   ]
  },
  {
   "cell_type": "markdown",
   "metadata": {
    "colab_type": "text",
    "id": "pP9cN1PVPf0c"
   },
   "source": [
    "<h3> Documentação para a biblioteca: \n",
    "    \n",
    "https://scikit-learn.org/stable/modules/generated/sklearn.cluster.KMeans.html"
   ]
  },
  {
   "cell_type": "code",
   "execution_count": null,
   "metadata": {
    "colab": {},
    "colab_type": "code",
    "id": "6V6ax7gWPf0h"
   },
   "outputs": [],
   "source": [
    "#Modelagem computacional com KMeans\n",
    "kmeans = KMeans(n_clusters = 2, random_state = 5)"
   ]
  },
  {
   "cell_type": "code",
   "execution_count": null,
   "metadata": {
    "colab": {},
    "colab_type": "code",
    "id": "4VAKPI6NPf0o"
   },
   "outputs": [],
   "source": [
    "#Modelando e guardando resultados na variável \"results\"\n",
    "results = kmeans.fit_predict(dataSetPrec)"
   ]
  },
  {
   "cell_type": "code",
   "execution_count": null,
   "metadata": {
    "colab": {
     "base_uri": "https://localhost:8080/",
     "height": 52
    },
    "colab_type": "code",
    "id": "NMj7mfd0Pf0x",
    "outputId": "f5ee50c4-f55d-4842-fe25-843b0c809a11"
   },
   "outputs": [],
   "source": [
    "#Visualizando quais são os centróides dos clusters obtidos na modelagem\n",
    "centroides = kmeans.cluster_centers_\n",
    "print(centroides)"
   ]
  },
  {
   "cell_type": "code",
   "execution_count": null,
   "metadata": {
    "colab": {
     "base_uri": "https://localhost:8080/",
     "height": 52
    },
    "colab_type": "code",
    "id": "a-9651RIPf0-",
    "outputId": "be0a5968-3fd0-4d24-9e89-83d32cfe1087"
   },
   "outputs": [],
   "source": [
    "#Visualizando resultados\n",
    "print(results)"
   ]
  },
  {
   "cell_type": "code",
   "execution_count": null,
   "metadata": {
    "colab": {
     "base_uri": "https://localhost:8080/",
     "height": 1430
    },
    "colab_type": "code",
    "id": "5YX-jTGQPf1M",
    "outputId": "0ad42335-21eb-4915-8129-36c98cf9cd2d"
   },
   "outputs": [],
   "source": [
    "#Mostrando um dos grupos de dados obtidos\n",
    "dataSetPrec[results == 0]"
   ]
  },
  {
   "cell_type": "code",
   "execution_count": null,
   "metadata": {
    "colab": {
     "base_uri": "https://localhost:8080/",
     "height": 708
    },
    "colab_type": "code",
    "id": "oApluJD2Pf1W",
    "outputId": "532d944e-04c8-408b-eef7-fb17171aeaa6"
   },
   "outputs": [],
   "source": [
    "#Mostrando o outro grupo de dados obtido\n",
    "dataSetPrec[results == 1]"
   ]
  },
  {
   "cell_type": "code",
   "execution_count": null,
   "metadata": {
    "colab": {
     "base_uri": "https://localhost:8080/",
     "height": 295
    },
    "colab_type": "code",
    "id": "Lj2s35jEPf1n",
    "outputId": "62f5787f-9555-4e40-b3b7-f57097079e25"
   },
   "outputs": [],
   "source": [
    "#Visualizando relação dos dados\n",
    "plt.scatter(dataSetPrec[\"NumDiasPrecipitacao\"], dataSetPrec[\"PrecipitacaoTotal\"], c = results)\n",
    "plt.scatter(centroides[:,0], centroides[:,1], marker = \"*\", s = 500)\n",
    "plt.title(\"Distribuição de chuva mensal de 2008 à 2018\")\n",
    "plt.xlabel(\"Dias em que ocorreu precipitação\")\n",
    "plt.ylabel(\"Precipitação acumulada mensalmente\")\n",
    "plt.show()"
   ]
  },
  {
   "cell_type": "markdown",
   "metadata": {},
   "source": [
    "<font size=\"5\" color=\"black\"> Um Jupyter-Notebook escrito por <b> Gilvandro César de Medeiros </b> sob a orientação do Professor <b> Orivaldo Vieira de Santana Junior </b> </font>\n",
    "<br> Contatos:\n",
    "<br> Links para Github\n",
    "<br> Gilvandro - https://github.com/gilvandrocesardemedeiros\n",
    "<br> Orivaldo - https://github.com/orivaldosantana\n",
    "<br> Link para Linkedin \n",
    "<br> Gilvandro - https://www.linkedin.com/in/gilvandromedeiros/"
   ]
  }
 ],
 "metadata": {
  "colab": {
   "name": "03 - Aprendizado não Supervisionado [K-Means].ipynb",
   "provenance": [],
   "version": "0.3.2"
  },
  "kernelspec": {
   "display_name": "Python 3",
   "language": "python",
   "name": "python3"
  },
  "language_info": {
   "codemirror_mode": {
    "name": "ipython",
    "version": 3
   },
   "file_extension": ".py",
   "mimetype": "text/x-python",
   "name": "python",
   "nbconvert_exporter": "python",
   "pygments_lexer": "ipython3",
   "version": "3.6.8"
  }
 },
 "nbformat": 4,
 "nbformat_minor": 1
}
