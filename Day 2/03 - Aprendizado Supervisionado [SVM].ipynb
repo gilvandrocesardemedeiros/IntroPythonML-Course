{
 "cells": [
  {
   "cell_type": "markdown",
   "metadata": {
    "colab_type": "text",
    "id": "WccIkO2fuk2t"
   },
   "source": [
    "# Agora vamos falar de aprendizado supervisionado, usando um algoritmo clássico: Support Vector Machine (SVM)."
   ]
  },
  {
   "cell_type": "code",
   "execution_count": null,
   "metadata": {
    "colab": {},
    "colab_type": "code",
    "id": "i1qrFNUQuk3A"
   },
   "outputs": [],
   "source": [
    "#Importando bibliotecas básicas\n",
    "import numpy as np\n",
    "import pandas as pd\n",
    "import matplotlib.pyplot as plt"
   ]
  },
  {
   "cell_type": "markdown",
   "metadata": {
    "colab_type": "text",
    "id": "nYfiBzEauk3k"
   },
   "source": [
    "<h3> Segue o link para visualizar os dados: \n",
    "    \n",
    "https://github.com/gilvandrocesardemedeiros/GEDataScience/raw/master/Codes/Data/INMET-Dados_Diarios_PortoAlegre_1980-2017.csv"
   ]
  },
  {
   "cell_type": "code",
   "execution_count": null,
   "metadata": {
    "colab": {},
    "colab_type": "code",
    "id": "Ms4I7ARBuk3r"
   },
   "outputs": [],
   "source": [
    "#Lendo os dados\n",
    "dataSet = pd.read_csv(\"https://github.com/gilvandrocesardemedeiros/GEDataScience/raw/master/Codes/Data/INMET-Dados_Diarios_PortoAlegre_1980-2017.csv\",\n",
    "                      skiprows = 16, sep=';')\n",
    "#Transformando data em variável do tipo datetime\n",
    "dataSet[\"Data\"] = pd.to_datetime(dataSet[\"Data\"], format = \"%d/%m/%Y\")"
   ]
  },
  {
   "cell_type": "code",
   "execution_count": null,
   "metadata": {
    "colab": {
     "base_uri": "https://localhost:8080/",
     "height": 241
    },
    "colab_type": "code",
    "id": "pSmC-rNjuk4E",
    "outputId": "245931fc-9047-4ed9-cfa9-5f447f47f2f1"
   },
   "outputs": [],
   "source": [
    "#Visualizando cabeçalho dos dados\n",
    "dataSet.head()"
   ]
  },
  {
   "cell_type": "code",
   "execution_count": null,
   "metadata": {
    "colab": {
     "base_uri": "https://localhost:8080/",
     "height": 355
    },
    "colab_type": "code",
    "id": "hMXg7jdZuk4p",
    "outputId": "f46b0a69-f5eb-4a72-a137-5b7c6505f960"
   },
   "outputs": [],
   "source": [
    "#Visualizando descrição resumida dos dados\n",
    "dataSet.describe()"
   ]
  },
  {
   "cell_type": "markdown",
   "metadata": {
    "colab_type": "text",
    "id": "bwahNI8Muk5D"
   },
   "source": [
    "# Esse problema encontrado agora na base de dados já foi enfrentado anteriormente, portanto, vamos agilizar o processo com a função \"OrganizarDados\""
   ]
  },
  {
   "cell_type": "code",
   "execution_count": null,
   "metadata": {
    "colab": {},
    "colab_type": "code",
    "id": "ip8H3fRXuk5I"
   },
   "outputs": [],
   "source": [
    "def OrganizarDados(dataSet):\n",
    "    #Transformando data em variável do tipo datetime\n",
    "    dataSet[\"Data\"] = pd.to_datetime(dataSet[\"Data\"], format = \"%d/%m/%Y\")\n",
    "    #Atribuindo \"Data\" como índice para a base de dados\n",
    "    dataSet = dataSet.set_index(\"Data\")\n",
    "    #Separando os dados em dois dataframes, um para as 00:00 h e outro para as 12:00 h\n",
    "    dataSet00, dataSet12 = dataSet[dataSet[\"Hora\"] == 0], dataSet[dataSet[\"Hora\"] == 1200]\n",
    "    #Descartando as colunas \"Hora\", \"Estacao\" e \"Unnamed: 11\" \n",
    "    dataSet00, dataSet12 = dataSet00.drop(columns = [\"Hora\", \"Estacao\", \"Unnamed: 11\"]), dataSet12.drop(columns = [\"Hora\", \"Estacao\", \"Unnamed: 11\"])\n",
    "    #Eliminando colunas completas por \"NaN\" em cada uma das bases de dados\n",
    "    dataSet00 = dataSet00.drop(columns = [\"Precipitacao\",\"TempMinima\"])\n",
    "    dataSet12 = dataSet12.drop(columns = [\"TempMaxima\",\"Insolacao\",\"Evaporacao Piche\",\"Temp Comp Media\",\"Umidade Relativa Media\",\"Velocidade do Vento Media\"])\n",
    "    #Criando o intervalo completo de tempo de 01-01-2005 à 31-12-2017\n",
    "    dataInicial = '2005-01-01'\n",
    "    dataFinal = '2017-12-31'\n",
    "    tempo = pd.date_range(dataInicial, dataFinal)\n",
    "    #Atribuindo este intervalo de tempo à um dataSet provisório\n",
    "    dataSetProv = pd.DataFrame()\n",
    "    dataSetProv[\"Data\"] = tempo\n",
    "    #Atribuindo o índice para o dataSet provisório como sendo a coluna de datas\n",
    "    dataSetProv = dataSetProv.set_index(\"Data\")\n",
    "    #Mesclando o dataSet provisório como sendo o resultado da junção dos dataSet00 e dataSet12\n",
    "    dataSetProv = dataSetProv.join(dataSet00).join(dataSet12)\n",
    "    #Tornando o dataSet como sendo o dataSet provisório\n",
    "    dataSet = dataSetProv  \n",
    "    return dataSet"
   ]
  },
  {
   "cell_type": "code",
   "execution_count": null,
   "metadata": {
    "colab": {},
    "colab_type": "code",
    "id": "NB5vgNS7uk5a"
   },
   "outputs": [],
   "source": [
    "#Aplicando a função ao dataSet\n",
    "dataSet = OrganizarDados(dataSet)"
   ]
  },
  {
   "cell_type": "code",
   "execution_count": null,
   "metadata": {
    "colab": {},
    "colab_type": "code",
    "id": "Jrp0Z-rauk6E"
   },
   "outputs": [],
   "source": [
    "#Eliminando eventos inconsistentes da base de dados\n",
    "dataSet = dataSet.dropna()"
   ]
  },
  {
   "cell_type": "code",
   "execution_count": null,
   "metadata": {
    "colab": {
     "base_uri": "https://localhost:8080/",
     "height": 206
    },
    "colab_type": "code",
    "id": "T4Z1ymrVuk6y",
    "outputId": "7a6c8897-d307-44e2-be14-f5e7392ac974"
   },
   "outputs": [],
   "source": [
    "#Visualizando cabeçalho dos dados\n",
    "dataSet.head()"
   ]
  },
  {
   "cell_type": "code",
   "execution_count": null,
   "metadata": {
    "colab": {
     "base_uri": "https://localhost:8080/",
     "height": 318
    },
    "colab_type": "code",
    "id": "g_2sa2eGuk7C",
    "outputId": "e37e71ce-ad5c-4dfc-e62a-646c928d561e"
   },
   "outputs": [],
   "source": [
    "#Visualizando descrição resumida dos dados\n",
    "dataSet.describe()"
   ]
  },
  {
   "cell_type": "code",
   "execution_count": null,
   "metadata": {
    "colab": {},
    "colab_type": "code",
    "id": "2cbaXyJMuk7k"
   },
   "outputs": [],
   "source": [
    "#Separando a coluna \"Mes\" do DataFrame\n",
    "tempMax = dataSet[\"TempMaxima\"].values\n",
    "dataSet = dataSet.drop(columns = \"TempMaxima\")"
   ]
  },
  {
   "cell_type": "code",
   "execution_count": null,
   "metadata": {
    "colab": {},
    "colab_type": "code",
    "id": "0wbsV-8tuk7y"
   },
   "outputs": [],
   "source": [
    "from sklearn.model_selection import train_test_split\n",
    "#Separando os conjuntos de treino e teste com os dados embaralhados, sendo 80% para treino e 20% para teste\n",
    "X_train, X_test, y_train, y_test = train_test_split(dataSet, tempMax, test_size = 0.2, random_state = 9)"
   ]
  },
  {
   "cell_type": "code",
   "execution_count": null,
   "metadata": {
    "colab": {},
    "colab_type": "code",
    "id": "W_ckWeuWuk8A"
   },
   "outputs": [],
   "source": [
    "from sklearn.preprocessing import StandardScaler\n",
    "#Efetuando uma transformação no conjunto de dados - também já estudamos isso\n",
    "sc = StandardScaler()\n",
    "X_train = sc.fit_transform(X_train)\n",
    "X_test = sc.transform(X_test)"
   ]
  },
  {
   "cell_type": "markdown",
   "metadata": {
    "colab_type": "text",
    "id": "vk_iOJfquk8M"
   },
   "source": [
    "<h3> Vamos agora utilizar o algoritmo SVM para regressão, disponibilizado na biblioteca Scikit-Learn. Segue link para a documentação:\n",
    "\n",
    "https://scikit-learn.org/stable/modules/generated/sklearn.svm.SVR.html#sklearn.svm.SVR"
   ]
  },
  {
   "cell_type": "code",
   "execution_count": null,
   "metadata": {
    "colab": {},
    "colab_type": "code",
    "id": "RXPhwt0-uk8P"
   },
   "outputs": [],
   "source": [
    "from sklearn.svm import SVR\n",
    "#Criação do objeto SVR\n",
    "classifier = SVR(verbose = True)"
   ]
  },
  {
   "cell_type": "code",
   "execution_count": null,
   "metadata": {
    "colab": {
     "base_uri": "https://localhost:8080/",
     "height": 86
    },
    "colab_type": "code",
    "id": "C8pOmgz7uk8b",
    "outputId": "8db4ed43-4a6e-4327-ce91-e6be9b8ce51f"
   },
   "outputs": [],
   "source": [
    "#Treinando o modelo classificador\n",
    "classifier.fit(X_train, y_train)"
   ]
  },
  {
   "cell_type": "code",
   "execution_count": null,
   "metadata": {
    "colab": {},
    "colab_type": "code",
    "id": "RgYtxeJQw7uY"
   },
   "outputs": [],
   "source": [
    "#Previsão para os valores de teste\n",
    "y_pred = classifier.predict(X_test)"
   ]
  },
  {
   "cell_type": "markdown",
   "metadata": {
    "colab": {},
    "colab_type": "code",
    "id": "w7_yIx0Zuk8v"
   },
   "source": [
    "<h2> Agora avalie seu modelo! Gráficos ou qualquer outra métrica são bem vindos!"
   ]
  },
  {
   "cell_type": "code",
   "execution_count": null,
   "metadata": {},
   "outputs": [],
   "source": []
  },
  {
   "cell_type": "code",
   "execution_count": null,
   "metadata": {},
   "outputs": [],
   "source": []
  },
  {
   "cell_type": "code",
   "execution_count": null,
   "metadata": {},
   "outputs": [],
   "source": []
  },
  {
   "cell_type": "markdown",
   "metadata": {},
   "source": [
    "<font size=\"5\" color=\"black\"> Um Jupyter-Notebook escrito por <b> Gilvandro César de Medeiros </b> sob a orientação do Professor <b> Orivaldo Vieira de Santana Junior </b> </font>\n",
    "<br> Contatos:\n",
    "<br> Links para Github\n",
    "<br> Gilvandro - https://github.com/gilvandrocesardemedeiros\n",
    "<br> Orivaldo - https://github.com/orivaldosantana\n",
    "<br> Link para Linkedin \n",
    "<br> Gilvandro - https://www.linkedin.com/in/gilvandromedeiros/"
   ]
  }
 ],
 "metadata": {
  "colab": {
   "name": "04 - Aprendizado Supervisionado [SVM].ipynb",
   "provenance": [],
   "version": "0.3.2"
  },
  "kernelspec": {
   "display_name": "Python 3",
   "language": "python",
   "name": "python3"
  },
  "language_info": {
   "codemirror_mode": {
    "name": "ipython",
    "version": 3
   },
   "file_extension": ".py",
   "mimetype": "text/x-python",
   "name": "python",
   "nbconvert_exporter": "python",
   "pygments_lexer": "ipython3",
   "version": "3.6.8"
  }
 },
 "nbformat": 4,
 "nbformat_minor": 1
}
